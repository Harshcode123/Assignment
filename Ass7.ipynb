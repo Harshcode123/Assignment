{
 "cells": [
  {
   "cell_type": "markdown",
   "id": "2a2948f3-e133-4a00-86bd-2056bd642c64",
   "metadata": {},
   "source": [
    "Q1. Who developed Python Programming Language? "
   ]
  },
  {
   "cell_type": "code",
   "execution_count": 3,
   "id": "84dc0095-d435-4fe9-b291-92fb5a7b79a6",
   "metadata": {},
   "outputs": [
    {
     "data": {
      "text/plain": [
       "'Guido van Rossum. '"
      ]
     },
     "execution_count": 3,
     "metadata": {},
     "output_type": "execute_result"
    }
   ],
   "source": [
    "'''Guido van Rossum. '''"
   ]
  },
  {
   "cell_type": "markdown",
   "id": "8b6506b3-d8df-4535-9097-dc868a3194cc",
   "metadata": {},
   "source": [
    "Q2. Which type of Programming does Python support? "
   ]
  },
  {
   "cell_type": "code",
   "execution_count": 4,
   "id": "5810b806-5781-47d2-9769-b22542efbcc4",
   "metadata": {},
   "outputs": [
    {
     "data": {
      "text/plain": [
       "'Python is a versatile programming language that supports multiple programming paradigms, including:\\n1. Procedural Programming\\n2. Object-Oriented Programming (OOP)\\n3. Functional Programming\\n4. Aspect-Oriented Programming (AOP)\\n5. Concurrent Programming'"
      ]
     },
     "execution_count": 4,
     "metadata": {},
     "output_type": "execute_result"
    }
   ],
   "source": [
    "'''Python is a versatile programming language that supports multiple programming paradigms, including:\n",
    "1. Procedural Programming\n",
    "2. Object-Oriented Programming (OOP)\n",
    "3. Functional Programming\n",
    "4. Aspect-Oriented Programming (AOP)\n",
    "5. Concurrent Programming'''"
   ]
  },
  {
   "cell_type": "markdown",
   "id": "b0d2956f-b3c8-48aa-8c52-51e258852926",
   "metadata": {},
   "source": [
    "Q3. Is Python case sensitive when dealing with identifiers? "
   ]
  },
  {
   "cell_type": "code",
   "execution_count": 5,
   "id": "fc2fa52b-cd94-4a26-932d-b81d3939d462",
   "metadata": {},
   "outputs": [
    {
     "data": {
      "text/plain": [
       "'\\nYes, Python is case sensitive when dealing with identifiers. \\nThis means that variables, function names, and other identifiers distinguish between \\nuppercase and lowercase letters. For example, the identifiers Variable, variable, and VARIABLE \\nwould be considered distinct and refer to different entities in Python\\n'"
      ]
     },
     "execution_count": 5,
     "metadata": {},
     "output_type": "execute_result"
    }
   ],
   "source": [
    "'''\n",
    "Yes, Python is case sensitive when dealing with identifiers. \n",
    "This means that variables, function names, and other identifiers distinguish between \n",
    "uppercase and lowercase letters. For example, the identifiers Variable, variable, and VARIABLE \n",
    "would be considered distinct and refer to different entities in Python\n",
    "'''"
   ]
  },
  {
   "cell_type": "markdown",
   "id": "015ad000-f537-46b5-8aeb-3d0aa4035255",
   "metadata": {},
   "source": [
    "Q4. What is the correct extension of the Python file? "
   ]
  },
  {
   "cell_type": "code",
   "execution_count": 7,
   "id": "47229cf0-4548-49aa-af86-84f7abcb82d0",
   "metadata": {},
   "outputs": [
    {
     "data": {
      "text/plain": [
       "'The correct file extension for a Python file is .py'"
      ]
     },
     "execution_count": 7,
     "metadata": {},
     "output_type": "execute_result"
    }
   ],
   "source": [
    "'''The correct file extension for a Python file is .py'''"
   ]
  },
  {
   "cell_type": "markdown",
   "id": "59efd652-ec4d-4b2e-bc48-63b69bf329cd",
   "metadata": {},
   "source": [
    "Q5. Is Python code compiled or interpreted? "
   ]
  },
  {
   "cell_type": "code",
   "execution_count": 8,
   "id": "72f4e05d-75e2-48f3-884c-0fd403503bcd",
   "metadata": {},
   "outputs": [
    {
     "data": {
      "text/plain": [
       "'\\nPython is primarily an interpreted language. \\nThis means that Python code is executed by an interpreter, \\nwhich reads and executes the code line by line at runtime, \\nrather than being compiled into machine code before execution.\\n'"
      ]
     },
     "execution_count": 8,
     "metadata": {},
     "output_type": "execute_result"
    }
   ],
   "source": [
    "'''\n",
    "Python is primarily an interpreted language. \n",
    "This means that Python code is executed by an interpreter, \n",
    "which reads and executes the code line by line at runtime, \n",
    "rather than being compiled into machine code before execution.\n",
    "'''"
   ]
  },
  {
   "cell_type": "markdown",
   "id": "140da9a4-2984-40c0-a450-d8274e93b754",
   "metadata": {},
   "source": [
    "Q6. Name a few blocks of code used to define in Python language? "
   ]
  },
  {
   "cell_type": "code",
   "execution_count": 11,
   "id": "a00fdfb1-b0e9-4e58-9409-1ae1d3dd8060",
   "metadata": {},
   "outputs": [],
   "source": [
    "'''Defined using the def keyword.'''\n",
    "def my_function():\n",
    "    print(\"Hello, World!\")"
   ]
  },
  {
   "cell_type": "code",
   "execution_count": 12,
   "id": "4157b53a-06b0-4504-b5f8-cd9bf25e358d",
   "metadata": {},
   "outputs": [
    {
     "name": "stdout",
     "output_type": "stream",
     "text": [
      "Hello, World!\n"
     ]
    }
   ],
   "source": [
    "my_function()"
   ]
  },
  {
   "cell_type": "code",
   "execution_count": 13,
   "id": "9104e673-2b39-4a64-9fa9-d5e4014e6f8f",
   "metadata": {},
   "outputs": [],
   "source": [
    "'''Classes: Defined using the class keyword.'''\n",
    "class MyClass:\n",
    "    def __init__(self, value):\n",
    "        self.value = value"
   ]
  },
  {
   "cell_type": "code",
   "execution_count": 18,
   "id": "079a2d0a-5f30-40f0-9719-02cbb357efbe",
   "metadata": {},
   "outputs": [
    {
     "name": "stdout",
     "output_type": "stream",
     "text": [
      "0\n",
      "1\n",
      "2\n",
      "3\n",
      "4\n"
     ]
    }
   ],
   "source": [
    "'''Loops: Defined using for and while keywords'''\n",
    "\n",
    "for i in range(5):\n",
    "    print(i)\n"
   ]
  },
  {
   "cell_type": "markdown",
   "id": "74bea949-5df6-4b34-b8b3-cedb40c6cb00",
   "metadata": {},
   "source": [
    "Q7. State a character used to give single-line comments in Python? "
   ]
  },
  {
   "cell_type": "code",
   "execution_count": 19,
   "id": "a4c306d0-bf3a-4b1b-a7e8-0a7a62109d6a",
   "metadata": {},
   "outputs": [],
   "source": [
    " # character is used to indicate single-line comments."
   ]
  },
  {
   "cell_type": "markdown",
   "id": "d8af0475-8dc1-4418-9773-e294fe904412",
   "metadata": {},
   "source": [
    "Q8. Mention functions which can help us to find the version of python that we are currently working on?"
   ]
  },
  {
   "cell_type": "code",
   "execution_count": 20,
   "id": "3eb5586e-5ad0-4b1e-8040-dc37c2a84064",
   "metadata": {},
   "outputs": [
    {
     "name": "stdout",
     "output_type": "stream",
     "text": [
      "sys.version_info(major=3, minor=10, micro=8, releaselevel='final', serial=0)\n"
     ]
    }
   ],
   "source": [
    "import sys\n",
    "print(sys.version_info)"
   ]
  },
  {
   "cell_type": "code",
   "execution_count": 21,
   "id": "cd58ec21-b4a8-4f31-963b-1c42cee3b763",
   "metadata": {},
   "outputs": [
    {
     "name": "stdout",
     "output_type": "stream",
     "text": [
      "3.10.8\n"
     ]
    }
   ],
   "source": [
    "import platform\n",
    "print(platform.python_version())"
   ]
  },
  {
   "cell_type": "markdown",
   "id": "b5261b75-4b50-4b97-a0ba-fb9af94b4662",
   "metadata": {},
   "source": [
    "Q9. Python supports the creation of anonymous functions at runtime, using a construct called "
   ]
  },
  {
   "cell_type": "code",
   "execution_count": 23,
   "id": "c7480ba6-e5e6-4d79-ad24-f95c581cc7fd",
   "metadata": {},
   "outputs": [
    {
     "data": {
      "text/plain": [
       "'Lambda'"
      ]
     },
     "execution_count": 23,
     "metadata": {},
     "output_type": "execute_result"
    }
   ],
   "source": [
    "'''Lambda'''"
   ]
  },
  {
   "cell_type": "markdown",
   "id": "330a58e8-b2ab-4660-885f-975f619513e0",
   "metadata": {},
   "source": [
    "Q10. What does pip stand for python? "
   ]
  },
  {
   "cell_type": "code",
   "execution_count": 24,
   "id": "22eb0d4c-55c0-4edd-8661-6a3476488fdf",
   "metadata": {},
   "outputs": [
    {
     "data": {
      "text/plain": [
       "'In Python, pip stands for \"Pip Installs Packages\". \\nIt is the package installer for Python, and you can use it to install and manage\\nadditional libraries and dependencies that are not included in the standard library. \\nFor example, you can install a package using the following command'"
      ]
     },
     "execution_count": 24,
     "metadata": {},
     "output_type": "execute_result"
    }
   ],
   "source": [
    "'''In Python, pip stands for \"Pip Installs Packages\". \n",
    "It is the package installer for Python, and you can use it to install and manage\n",
    "additional libraries and dependencies that are not included in the standard library. \n",
    "For example, you can install a package using the following command'''"
   ]
  },
  {
   "cell_type": "markdown",
   "id": "8dd3a85a-562a-47a0-8909-b1904127b161",
   "metadata": {},
   "source": [
    "Q11. Mention a few built-in functions in python?"
   ]
  },
  {
   "cell_type": "code",
   "execution_count": 25,
   "id": "18e8a8fd-47d8-41fd-b5fa-00c63fab7a56",
   "metadata": {},
   "outputs": [
    {
     "data": {
      "text/plain": [
       "'1. print()\\n2. len()\\n3. input()\\n5. type()\\n5. abs()'"
      ]
     },
     "execution_count": 25,
     "metadata": {},
     "output_type": "execute_result"
    }
   ],
   "source": [
    "'''1. print()\n",
    "2. len()\n",
    "3. input()\n",
    "5. type()\n",
    "5. abs()'''\n"
   ]
  },
  {
   "cell_type": "code",
   "execution_count": 27,
   "id": "ca7e3578-f3ba-4ef9-9a52-cb9d71592a4d",
   "metadata": {},
   "outputs": [
    {
     "data": {
      "text/plain": [
       "'The maximum possible length of an identifier is technically unlimited.'"
      ]
     },
     "execution_count": 27,
     "metadata": {},
     "output_type": "execute_result"
    }
   ],
   "source": [
    "'''The maximum possible length of an identifier is technically unlimited.'''"
   ]
  },
  {
   "cell_type": "markdown",
   "id": "04857920-e852-489c-b557-4d379783f8fd",
   "metadata": {},
   "source": [
    "Q12. What are the benefits of using Python? "
   ]
  },
  {
   "cell_type": "code",
   "execution_count": 32,
   "id": "f5de7eab-040e-49b6-8e5e-9a1395b46b08",
   "metadata": {},
   "outputs": [
    {
     "data": {
      "text/plain": [
       "'\\n1. Readability and simplicity\\n2. Wide range of libraries and frameworks\\n3. Cross-platform compatibility\\n4. Interpreted language\\n5. Large and active community\\n6. Scalability\\n7. Versatility'"
      ]
     },
     "execution_count": 32,
     "metadata": {},
     "output_type": "execute_result"
    }
   ],
   "source": [
    "'''\n",
    "1. Readability and simplicity\n",
    "2. Wide range of libraries and frameworks\n",
    "3. Cross-platform compatibility\n",
    "4. Interpreted language\n",
    "5. Large and active community\n",
    "6. Scalability\n",
    "7. Versatility'''"
   ]
  },
  {
   "cell_type": "markdown",
   "id": "9d6a62a0-bddd-4efd-8b50-5641af19fcab",
   "metadata": {},
   "source": [
    "Q13. How is memory managed in Python?"
   ]
  },
  {
   "cell_type": "code",
   "execution_count": 33,
   "id": "0a8f2414-0a2b-4562-b201-1ef7176f014d",
   "metadata": {},
   "outputs": [
    {
     "data": {
      "text/plain": [
       "'\\n1. Automatic Memory Management\\n2. Reference Counting\\n3. Garbage Collection\\n4. Memory Pools\\n5. Memory Optimization Techniques\\n'"
      ]
     },
     "execution_count": 33,
     "metadata": {},
     "output_type": "execute_result"
    }
   ],
   "source": [
    "'''\n",
    "1. Automatic Memory Management\n",
    "2. Reference Counting\n",
    "3. Garbage Collection\n",
    "4. Memory Pools\n",
    "5. Memory Optimization Techniques\n",
    "'''"
   ]
  },
  {
   "cell_type": "markdown",
   "id": "ad786d7d-8a46-41e3-a2a4-8689f734d028",
   "metadata": {},
   "source": [
    "Q15. How to install Python on Windows and set path variables? 16. Is indentation required in python?"
   ]
  },
  {
   "cell_type": "code",
   "execution_count": 34,
   "id": "b925ae69-c0c3-4ad1-a540-a109bc85d25a",
   "metadata": {},
   "outputs": [
    {
     "data": {
      "text/plain": [
       "'\\'Download Python Installer: Go to the official Python website (https://www.python.org/) and download the latest version of Python for Windows.\\n\\nRun Installer: Double-click the downloaded installer file (usually named something like python-3.x.x.exe) to run the Python installer.\\n\\nSelect Installation Options: In the installer, select \"Install Now\" to install Python with default settings. You can also customize the installation by selecting \"Customize installation\" and choosing additional features.\\n\\nAdd Python to PATH: During installation, ensure that the option \"Add Python to PATH\" is checked. This will automatically add Python to your system\\'s PATH environment variable, allowing you to run Python from any command prompt.\\n\\nComplete Installation: Follow the prompts to complete the installation process. Once installed, you can verify the installation by opening a command prompt and typing python --version to check the Python version'"
      ]
     },
     "execution_count": 34,
     "metadata": {},
     "output_type": "execute_result"
    }
   ],
   "source": [
    "''''Download Python Installer: Go to the official Python website (https://www.python.org/) and download the latest version of Python for Windows.\n",
    "\n",
    "Run Installer: Double-click the downloaded installer file (usually named something like python-3.x.x.exe) to run the Python installer.\n",
    "\n",
    "Select Installation Options: In the installer, select \"Install Now\" to install Python with default settings. You can also customize the installation by selecting \"Customize installation\" and choosing additional features.\n",
    "\n",
    "Add Python to PATH: During installation, ensure that the option \"Add Python to PATH\" is checked. This will automatically add Python to your system's PATH environment variable, allowing you to run Python from any command prompt.\n",
    "\n",
    "Complete Installation: Follow the prompts to complete the installation process. Once installed, you can verify the installation by opening a command prompt and typing python --version to check the Python version'''"
   ]
  },
  {
   "cell_type": "code",
   "execution_count": null,
   "id": "a3b8c578-eb06-4d44-bf54-a6d1749b90a1",
   "metadata": {},
   "outputs": [],
   "source": []
  }
 ],
 "metadata": {
  "kernelspec": {
   "display_name": "Python 3 (ipykernel)",
   "language": "python",
   "name": "python3"
  },
  "language_info": {
   "codemirror_mode": {
    "name": "ipython",
    "version": 3
   },
   "file_extension": ".py",
   "mimetype": "text/x-python",
   "name": "python",
   "nbconvert_exporter": "python",
   "pygments_lexer": "ipython3",
   "version": "3.10.8"
  }
 },
 "nbformat": 4,
 "nbformat_minor": 5
}
