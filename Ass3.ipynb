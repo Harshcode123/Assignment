{
 "cells": [
  {
   "cell_type": "markdown",
   "id": "3dd07673-5c4f-492c-af60-e9176447172c",
   "metadata": {},
   "source": [
    "Q1. Create a python program to sort the given list of tuples based on integer value using a lambda function."
   ]
  },
  {
   "cell_type": "code",
   "execution_count": 1,
   "id": "fc4e2d20-c254-4c76-9e5c-e8f931caf4c4",
   "metadata": {},
   "outputs": [],
   "source": [
    "cric = [('Sachin Tendulkar', 34357), ('Ricky Ponting', 27483), ('Jack Kallis', 25534), ('Virat Kohli', 24936)]"
   ]
  },
  {
   "cell_type": "code",
   "execution_count": 2,
   "id": "ac3c62b3-fb6d-48c8-acb8-8bf059422d27",
   "metadata": {},
   "outputs": [
    {
     "data": {
      "text/plain": [
       "[('Sachin Tendulkar', 34357),\n",
       " ('Ricky Ponting', 27483),\n",
       " ('Jack Kallis', 25534),\n",
       " ('Virat Kohli', 24936)]"
      ]
     },
     "execution_count": 2,
     "metadata": {},
     "output_type": "execute_result"
    }
   ],
   "source": [
    "cric"
   ]
  },
  {
   "cell_type": "code",
   "execution_count": 12,
   "id": "142e6398-659a-4430-b3ec-955879e54c11",
   "metadata": {},
   "outputs": [],
   "source": [
    "sot = sorted(cric, key = lambda x : x[1])"
   ]
  },
  {
   "cell_type": "code",
   "execution_count": 13,
   "id": "0314e32d-6a95-469f-bb00-2a3398889b39",
   "metadata": {},
   "outputs": [
    {
     "data": {
      "text/plain": [
       "[('Virat Kohli', 24936),\n",
       " ('Jack Kallis', 25534),\n",
       " ('Ricky Ponting', 27483),\n",
       " ('Sachin Tendulkar', 34357)]"
      ]
     },
     "execution_count": 13,
     "metadata": {},
     "output_type": "execute_result"
    }
   ],
   "source": [
    "sot"
   ]
  },
  {
   "cell_type": "markdown",
   "id": "bba92fd4-b6e2-40d4-b562-a28dbb8eb425",
   "metadata": {},
   "source": [
    "Q2. Write a Python Program to find the squares of all the numbers in the given list of integers using lambda and map functions."
   ]
  },
  {
   "cell_type": "code",
   "execution_count": 14,
   "id": "5a1bccc2-125d-47ea-96fa-b06d32888501",
   "metadata": {},
   "outputs": [],
   "source": [
    "num = [1, 2, 3, 4, 5, 6, 7, 8, 9, 10]"
   ]
  },
  {
   "cell_type": "code",
   "execution_count": 40,
   "id": "1387ca76-9ae4-4cbf-8639-8960db659acc",
   "metadata": {},
   "outputs": [
    {
     "data": {
      "text/plain": [
       "[1, 4, 9, 16, 25, 36, 49, 64, 81, 100]"
      ]
     },
     "execution_count": 40,
     "metadata": {},
     "output_type": "execute_result"
    }
   ],
   "source": [
    "list(map(lambda x : x**2,num))"
   ]
  },
  {
   "cell_type": "markdown",
   "id": "f03d2872-97cb-4ef8-ae07-cef54efb9eb9",
   "metadata": {},
   "source": [
    "Q3. Write a python program to convert the given list of integers into a tuple of strings. Use map and lambda functions"
   ]
  },
  {
   "cell_type": "code",
   "execution_count": 5,
   "id": "7db55be0-bedf-4b60-bc4e-8df3d7cd6ead",
   "metadata": {},
   "outputs": [],
   "source": [
    "num = [1,2,3,4,5,6,7,8,9,10]"
   ]
  },
  {
   "cell_type": "code",
   "execution_count": 6,
   "id": "f259bc83-6b50-4ac9-adf4-16112caece02",
   "metadata": {},
   "outputs": [],
   "source": [
    "reult = tuple(map(lambda x : str(x), num))"
   ]
  },
  {
   "cell_type": "code",
   "execution_count": 7,
   "id": "9a3d21cc-e67c-4acf-9ffe-aaedf2e39213",
   "metadata": {},
   "outputs": [
    {
     "data": {
      "text/plain": [
       "('1', '2', '3', '4', '5')"
      ]
     },
     "execution_count": 7,
     "metadata": {},
     "output_type": "execute_result"
    }
   ],
   "source": [
    "result"
   ]
  },
  {
   "cell_type": "markdown",
   "id": "a1db7c6e-dad8-47b6-a85c-a17cd0616fb9",
   "metadata": {},
   "source": [
    "Q4. Write a python program using reduce function to compute the product of a list containing numbers\n",
    "from 1 to 25."
   ]
  },
  {
   "cell_type": "code",
   "execution_count": 28,
   "id": "59fc6cb6-e1d1-4f48-a802-4668a2df42dc",
   "metadata": {},
   "outputs": [],
   "source": [
    "my_list = []\n",
    "for i in range(1,26):\n",
    "    my_list.append(i)"
   ]
  },
  {
   "cell_type": "code",
   "execution_count": 29,
   "id": "924c8b63-7e71-42db-acc8-c9c56a921173",
   "metadata": {},
   "outputs": [
    {
     "name": "stdout",
     "output_type": "stream",
     "text": [
      "[1, 2, 3, 4, 5, 6, 7, 8, 9, 10, 11, 12, 13, 14, 15, 16, 17, 18, 19, 20, 21, 22, 23, 24, 25]\n"
     ]
    }
   ],
   "source": [
    "print(my_list)"
   ]
  },
  {
   "cell_type": "code",
   "execution_count": 30,
   "id": "00737ea4-e1e4-40fe-a3b4-8513df3bd33a",
   "metadata": {},
   "outputs": [],
   "source": [
    "prod = list(map(lambda x : x*x, my_list))"
   ]
  },
  {
   "cell_type": "code",
   "execution_count": 31,
   "id": "665e3054-c269-4fed-b17f-afc00f8303cb",
   "metadata": {},
   "outputs": [
    {
     "name": "stdout",
     "output_type": "stream",
     "text": [
      "[1, 4, 9, 16, 25, 36, 49, 64, 81, 100, 121, 144, 169, 196, 225, 256, 289, 324, 361, 400, 441, 484, 529, 576, 625]\n"
     ]
    }
   ],
   "source": [
    "print(prod)"
   ]
  },
  {
   "cell_type": "markdown",
   "id": "137d6d6d-db95-464a-ad1b-41e0595422fe",
   "metadata": {},
   "source": [
    "Q5. Write a python program to filter the numbers in a given list that are divisible by 2 and 3 using the\n",
    "filter function."
   ]
  },
  {
   "cell_type": "code",
   "execution_count": 32,
   "id": "64b44ddb-0fe3-4f92-8c07-9b5d784b49a3",
   "metadata": {},
   "outputs": [],
   "source": [
    "div = [2, 3, 6, 9, 27, 60, 90, 120, 55, 46]"
   ]
  },
  {
   "cell_type": "code",
   "execution_count": 35,
   "id": "51976b08-afe1-4330-a9ea-8b2c4079a3a9",
   "metadata": {},
   "outputs": [
    {
     "data": {
      "text/plain": [
       "[2, 3, 6, 9, 27, 60, 90, 120, 46]"
      ]
     },
     "execution_count": 35,
     "metadata": {},
     "output_type": "execute_result"
    }
   ],
   "source": [
    "list(filter(lambda x : x%2==0 or x%3==0, div))"
   ]
  },
  {
   "cell_type": "markdown",
   "id": "f1d9afce-048b-4ee1-8855-8666a667db1a",
   "metadata": {},
   "source": [
    "Q6. Write a python program to find palindromes in the given list of strings using lambda and filter\n",
    "function."
   ]
  },
  {
   "cell_type": "code",
   "execution_count": 37,
   "id": "e0347aab-25f5-4408-ad87-7309b7a1cc81",
   "metadata": {},
   "outputs": [],
   "source": [
    "pp = ['python', 'php', 'aba', 'radar', 'level']"
   ]
  },
  {
   "cell_type": "code",
   "execution_count": 38,
   "id": "a24a45a2-6126-4c41-bd02-cd39a35aa2e2",
   "metadata": {},
   "outputs": [
    {
     "data": {
      "text/plain": [
       "<filter at 0x7f0aff2d67a0>"
      ]
     },
     "execution_count": 38,
     "metadata": {},
     "output_type": "execute_result"
    }
   ],
   "source": [
    "filter(lambda x : x ==x[::-1], pp)"
   ]
  },
  {
   "cell_type": "code",
   "execution_count": null,
   "id": "3c6d6da0-5792-4cb5-b92b-4992b0a1889c",
   "metadata": {},
   "outputs": [],
   "source": []
  }
 ],
 "metadata": {
  "kernelspec": {
   "display_name": "Python 3 (ipykernel)",
   "language": "python",
   "name": "python3"
  },
  "language_info": {
   "codemirror_mode": {
    "name": "ipython",
    "version": 3
   },
   "file_extension": ".py",
   "mimetype": "text/x-python",
   "name": "python",
   "nbconvert_exporter": "python",
   "pygments_lexer": "ipython3",
   "version": "3.10.8"
  }
 },
 "nbformat": 4,
 "nbformat_minor": 5
}
