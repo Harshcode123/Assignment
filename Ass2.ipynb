{
 "cells": [
  {
   "cell_type": "markdown",
   "id": "2e39cd38-6ae0-47da-a8c1-5bd712e60726",
   "metadata": {},
   "source": [
    "#Q1 - Which keyword is used to create a function? Create a function to return a list of odd numbers in the\n",
    "range of 1 to 25."
   ]
  },
  {
   "cell_type": "code",
   "execution_count": 1,
   "id": "770be2aa-685d-4d26-b5e0-58f935285550",
   "metadata": {},
   "outputs": [],
   "source": [
    "l1 = list(range(1,26))\n",
    "\n",
    "def list_odd():\n",
    "    l2 = []\n",
    "    for i in l1:\n",
    "        if i%2 != 0:\n",
    "            l2.append(i)\n",
    "    return l2"
   ]
  },
  {
   "cell_type": "code",
   "execution_count": 2,
   "id": "04a5e9ef-6339-4dd7-8053-54ac622eacf0",
   "metadata": {},
   "outputs": [
    {
     "data": {
      "text/plain": [
       "[1, 3, 5, 7, 9, 11, 13, 15, 17, 19, 21, 23, 25]"
      ]
     },
     "execution_count": 2,
     "metadata": {},
     "output_type": "execute_result"
    }
   ],
   "source": [
    "list_odd()"
   ]
  },
  {
   "cell_type": "markdown",
   "id": "b720312a-a39f-4e96-9916-ab360808453b",
   "metadata": {},
   "source": [
    "Q2 - Why *args and **kwargs is used in some functions? Create a function each for *args and **kwargs\n",
    "to demonstrate their use."
   ]
  },
  {
   "cell_type": "code",
   "execution_count": 3,
   "id": "dfb33700-d41d-4c92-83e6-524f2c7c45f7",
   "metadata": {},
   "outputs": [
    {
     "data": {
      "text/plain": [
       "'*args allows a function to accept any number of positional arguments. \\nIt collects them into a tuple within the function\\n\\n**kwargs allows a function to accept any number of key value arguments. \\nIt collects them into a dictionary within the function.'"
      ]
     },
     "execution_count": 3,
     "metadata": {},
     "output_type": "execute_result"
    }
   ],
   "source": [
    "'''*args allows a function to accept any number of positional arguments. \n",
    "It collects them into a tuple within the function\n",
    "\n",
    "**kwargs allows a function to accept any number of key value arguments. \n",
    "It collects them into a dictionary within the function.'''"
   ]
  },
  {
   "cell_type": "code",
   "execution_count": 4,
   "id": "ac3c70da-29f8-41be-befc-7cf7c2f287df",
   "metadata": {},
   "outputs": [],
   "source": [
    "def first_args(*args):\n",
    "    t = sum(args)\n",
    "    return t\n",
    "def dict_args(**args):\n",
    "    return args\n",
    "\n"
   ]
  },
  {
   "cell_type": "code",
   "execution_count": 5,
   "id": "6ab10a74-3d28-4251-ba70-89a8ceff89c3",
   "metadata": {},
   "outputs": [
    {
     "data": {
      "text/plain": [
       "28"
      ]
     },
     "execution_count": 5,
     "metadata": {},
     "output_type": "execute_result"
    }
   ],
   "source": [
    "first_args(1,2,3,4,5,6,7)"
   ]
  },
  {
   "cell_type": "code",
   "execution_count": 6,
   "id": "891f387d-eb62-4447-b0af-6cde8d524ee4",
   "metadata": {},
   "outputs": [
    {
     "data": {
      "text/plain": [
       "{'a': 1, 'b': 2}"
      ]
     },
     "execution_count": 6,
     "metadata": {},
     "output_type": "execute_result"
    }
   ],
   "source": [
    "dict_args(a=1,b=2)"
   ]
  },
  {
   "cell_type": "markdown",
   "id": "2e0ee7bd-8e79-4f83-87a8-12345182a5ec",
   "metadata": {},
   "source": [
    "Q3. What is an iterator in python? Name the method used to initialise the iterator object and the method\n",
    "used for iteration. Use these methods to print the first five elements of the given list [2, 4, 6, 8, 10, 12, 14,\n",
    "16, 18, 20]."
   ]
  },
  {
   "cell_type": "code",
   "execution_count": 8,
   "id": "ead1eedf-333f-4ff6-958c-28e5229c9891",
   "metadata": {},
   "outputs": [
    {
     "data": {
      "text/plain": [
       "'An iterator is an object that allows iteration over a sequence of elements, such as a list, tuple, or dictionary. \\nIterators implement two methods: __iter__() and __next__()'"
      ]
     },
     "execution_count": 8,
     "metadata": {},
     "output_type": "execute_result"
    }
   ],
   "source": [
    "'''An iterator is an object that allows iteration over a sequence of elements, such as a list, tuple, or dictionary. \n",
    "Iterators implement two methods: __iter__() and __next__()'''"
   ]
  },
  {
   "cell_type": "code",
   "execution_count": 10,
   "id": "bebd72e1-f0d7-4262-935b-65a8c7d42546",
   "metadata": {},
   "outputs": [
    {
     "name": "stdout",
     "output_type": "stream",
     "text": [
      "2\n",
      "4\n",
      "6\n",
      "8\n",
      "10\n"
     ]
    }
   ],
   "source": [
    "my_list = [2, 4, 6, 8, 10, 12, 14, 16, 18, 20]\n",
    "my_iterator = iter(my_list)\n",
    "\n",
    "for _ in range(5):\n",
    "    print(next(my_iterator))\n"
   ]
  },
  {
   "cell_type": "markdown",
   "id": "bdd82061-3758-49de-a51e-5aaa795e3fa0",
   "metadata": {},
   "source": [
    "Q4 - What is a generator function in python? Why yield keyword is used? Give an example of a generator\n",
    "function."
   ]
  },
  {
   "cell_type": "code",
   "execution_count": 11,
   "id": "02b7c2c3-f09a-4e70-a8b8-c8bd14568488",
   "metadata": {},
   "outputs": [
    {
     "data": {
      "text/plain": [
       "'Generator function is specal kind of function that allow to generator sequence of values using yield keyword.'"
      ]
     },
     "execution_count": 11,
     "metadata": {},
     "output_type": "execute_result"
    }
   ],
   "source": [
    "'''Generator function is specal kind of function that allow to generator sequence of values using yield keyword.'''"
   ]
  },
  {
   "cell_type": "code",
   "execution_count": 15,
   "id": "fc8d1422-6d06-446f-9b2c-f4440fcff423",
   "metadata": {},
   "outputs": [],
   "source": [
    "def fibonacci_generator(n):\n",
    "    a,b =  0,1\n",
    "    for i in range(n):\n",
    "        yield a\n",
    "        a,b = b, a+b\n",
    "    "
   ]
  },
  {
   "cell_type": "code",
   "execution_count": 22,
   "id": "bde69e4e-ef9e-4ea5-8f7f-1d96526f2cb8",
   "metadata": {},
   "outputs": [
    {
     "name": "stdout",
     "output_type": "stream",
     "text": [
      "0\n",
      "1\n",
      "1\n",
      "2\n",
      "3\n",
      "5\n",
      "8\n",
      "13\n",
      "21\n",
      "34\n"
     ]
    }
   ],
   "source": [
    "for i in fibonacci_generator(10):\n",
    "    print(i)"
   ]
  },
  {
   "cell_type": "markdown",
   "id": "b9c54222-ab21-4b5f-958f-95f722c40bf7",
   "metadata": {},
   "source": [
    "Q5 - Create a generator function for prime numbers less than 1000. Use the next() method to print the\n",
    "first 20 prime numbers."
   ]
  },
  {
   "cell_type": "code",
   "execution_count": 1,
   "id": "42a81520-6364-41a4-8a11-efc96052207d",
   "metadata": {},
   "outputs": [
    {
     "name": "stdout",
     "output_type": "stream",
     "text": [
      "2\n",
      "3\n",
      "5\n",
      "7\n",
      "11\n",
      "13\n",
      "17\n",
      "19\n",
      "23\n",
      "29\n",
      "31\n",
      "37\n",
      "41\n",
      "43\n",
      "47\n",
      "53\n",
      "59\n",
      "61\n",
      "67\n",
      "71\n"
     ]
    }
   ],
   "source": [
    "def prime_generator():\n",
    "    for num in range(2, 1000):\n",
    "        if is_prime(num):\n",
    "            yield num\n",
    "\n",
    "def is_prime(n):\n",
    "    if n <= 1:\n",
    "        return False\n",
    "    elif n <= 3:\n",
    "        return True\n",
    "    elif n % 2 == 0 or n % 3 == 0:\n",
    "        return False\n",
    "    i = 5\n",
    "    while i * i <= n:\n",
    "        if n % i == 0 or n % (i + 2) == 0:\n",
    "            return False\n",
    "        i += 6\n",
    "    return True\n",
    "\n",
    "prime_gen = prime_generator()\n",
    "for _ in range(20):\n",
    "    print(next(prime_gen))\n"
   ]
  },
  {
   "cell_type": "markdown",
   "id": "5e66ff4a-1620-405a-92c9-8d8dda1bef3f",
   "metadata": {},
   "source": [
    "Q6. Write a python program to print the first 10 Fibonacci numbers using a while loop."
   ]
  },
  {
   "cell_type": "code",
   "execution_count": 6,
   "id": "2228b4c0-9762-40be-b324-59820bca8911",
   "metadata": {},
   "outputs": [
    {
     "name": "stdout",
     "output_type": "stream",
     "text": [
      "1\n",
      "1\n",
      "2\n",
      "3\n",
      "5\n",
      "8\n",
      "13\n",
      "21\n",
      "34\n",
      "55\n"
     ]
    }
   ],
   "source": [
    "n = 1\n",
    "a,b = 0,1\n",
    "while n <=10:\n",
    "    a,b = b , a+b\n",
    "    n = n+1\n",
    "    print(a)\n",
    "          "
   ]
  },
  {
   "cell_type": "markdown",
   "id": "fac1e0da-e9be-4e6e-9c5a-acf2b0d34d5d",
   "metadata": {},
   "source": [
    "Q7. Write a List Comprehension to iterate through the given string: ‘pwskills’.\n",
    "Expected output: ['p', 'w', 's', 'k', 'i', 'l', 'l', 's']"
   ]
  },
  {
   "cell_type": "code",
   "execution_count": 7,
   "id": "277713bb-64b5-4282-b1af-ec88ef597cea",
   "metadata": {},
   "outputs": [
    {
     "name": "stdout",
     "output_type": "stream",
     "text": [
      "['p', 'w', 's', 'k', 'i', 'l', 'l', 's']\n"
     ]
    }
   ],
   "source": [
    "string = \"pwskills\"\n",
    "output = [i for i in string]\n",
    "print(output)"
   ]
  },
  {
   "cell_type": "markdown",
   "id": "cfa38b23-7dfb-485d-8a35-8624481b3af6",
   "metadata": {},
   "source": [
    "Q8. Write a python program to check whether a given number is Palindrome or not using a while loop."
   ]
  },
  {
   "cell_type": "code",
   "execution_count": 9,
   "id": "0fa5e66e-2ed6-47d7-96b2-57da503f5f67",
   "metadata": {},
   "outputs": [
    {
     "name": "stdin",
     "output_type": "stream",
     "text": [
      "Enter a number:  201\n"
     ]
    },
    {
     "name": "stdout",
     "output_type": "stream",
     "text": [
      "201 is not a palindrome\n"
     ]
    }
   ],
   "source": [
    "def is_palindrome(num):\n",
    "    original_num = num\n",
    "    reverse_num = 0\n",
    "    while num > 0:\n",
    "        remainder = num % 10\n",
    "        reverse_num = reverse_num * 10 + remainder\n",
    "        num = num // 10\n",
    "    if original_num == reverse_num:\n",
    "        return True\n",
    "    else:\n",
    "        return False\n",
    "\n",
    "number = int(input(\"Enter a number: \"))\n",
    "if is_palindrome(number):\n",
    "    print(f\"{number} is a palindrome\")\n",
    "else:\n",
    "    print(f\"{number} is not a palindrome\")\n"
   ]
  },
  {
   "cell_type": "markdown",
   "id": "04a6d9b1-5312-4330-b1f7-48602cfca881",
   "metadata": {},
   "source": [
    "Q9. Write a code to print odd numbers from 1 to 100 using list comprehension."
   ]
  },
  {
   "cell_type": "code",
   "execution_count": null,
   "id": "9753f80c-db43-4f47-b6c1-daf2f98b8172",
   "metadata": {},
   "outputs": [],
   "source": [
    "odd = [i for i in range(100) if i%2!=0]"
   ]
  }
 ],
 "metadata": {
  "kernelspec": {
   "display_name": "Python 3 (ipykernel)",
   "language": "python",
   "name": "python3"
  },
  "language_info": {
   "codemirror_mode": {
    "name": "ipython",
    "version": 3
   },
   "file_extension": ".py",
   "mimetype": "text/x-python",
   "name": "python",
   "nbconvert_exporter": "python",
   "pygments_lexer": "ipython3",
   "version": "3.10.8"
  }
 },
 "nbformat": 4,
 "nbformat_minor": 5
}
