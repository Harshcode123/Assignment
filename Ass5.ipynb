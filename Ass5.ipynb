{
 "cells": [
  {
   "cell_type": "markdown",
   "id": "afb9b6e7-3562-4cdd-82a2-d526651f5a10",
   "metadata": {},
   "source": [
    "Q1. Create a function which will take a list as an argument and return the product of all the numbers\n",
    "after creating a flat list.\n",
    "Use the below-given list as an argument for your function."
   ]
  },
  {
   "cell_type": "code",
   "execution_count": 9,
   "id": "d2584dba-9881-4fc4-b594-782eb30656db",
   "metadata": {},
   "outputs": [],
   "source": [
    "list1 = [1,2,3,4, [44,55,66, True], False, (34,56,78,89,34), {1,2,3,3,2,1}, {1:34, \"key2\": [55, 67, 78, 89], 4: (45,\n",
    "22, 61, 34)}, [56, 'data science'], 'Machine Learning']"
   ]
  },
  {
   "cell_type": "code",
   "execution_count": 10,
   "id": "5cbf83ac-324d-43fc-9318-871429186388",
   "metadata": {},
   "outputs": [
    {
     "data": {
      "text/plain": [
       "[1,\n",
       " 2,\n",
       " 3,\n",
       " 4,\n",
       " [44, 55, 66, True],\n",
       " False,\n",
       " (34, 56, 78, 89, 34),\n",
       " {1, 2, 3},\n",
       " {1: 34, 'key2': [55, 67, 78, 89], 4: (45, 22, 61, 34)},\n",
       " [56, 'data science'],\n",
       " 'Machine Learning']"
      ]
     },
     "execution_count": 10,
     "metadata": {},
     "output_type": "execute_result"
    }
   ],
   "source": [
    "list1"
   ]
  },
  {
   "cell_type": "code",
   "execution_count": 21,
   "id": "4a366c29-7671-4c4e-9b52-a39915e4a748",
   "metadata": {},
   "outputs": [
    {
     "name": "stdout",
     "output_type": "stream",
     "text": [
      "Extracted keys and values along with integers: [1, 2, 3, 4, 44, 55, 66, True, False, 34, 56, 78, 89, 34, 1, 2, 3, 34, 55, 67, 78, 89, 45, 22, 61, 34, 1, 4, 56]\n"
     ]
    }
   ],
   "source": [
    "ff = []\n",
    "for i in list1:\n",
    "    if isinstance(i, int):\n",
    "        ff.append(i)\n",
    "    elif isinstance(i, dict):\n",
    "        for value in i.values():\n",
    "                if isinstance(value, (int, float)):\n",
    "                    ff.append(value)\n",
    "                else:\n",
    "                    for c in value:\n",
    "                        ff.append(c)\n",
    "        for key in i.keys():\n",
    "                if isinstance(key, (int, float)):\n",
    "                    ff.append(key)\n",
    "                else:\n",
    "                    for d in key:\n",
    "                        if isinstance(d, int):\n",
    "                            ff.append(d)\n",
    "    else:\n",
    "        for x in i:\n",
    "            if isinstance(x, int):\n",
    "                ff.append(x)\n",
    "\n",
    "               "
   ]
  },
  {
   "cell_type": "code",
   "execution_count": 23,
   "id": "918e00c1-c2e4-4e29-864f-c4acd02108e5",
   "metadata": {},
   "outputs": [
    {
     "name": "stdout",
     "output_type": "stream",
     "text": [
      "[1, 2, 3, 4, 44, 55, 66, True, False, 34, 56, 78, 89, 34, 1, 2, 3, 34, 55, 67, 78, 89, 45, 22, 61, 34, 1, 4, 56]\n"
     ]
    }
   ],
   "source": [
    "print(ff)\n"
   ]
  },
  {
   "cell_type": "code",
   "execution_count": 24,
   "id": "96318169-9169-4a4b-acd9-73327ded502b",
   "metadata": {},
   "outputs": [],
   "source": [
    "product = 1\n",
    "for i in ff:\n",
    "    product = product * i\n",
    "    "
   ]
  },
  {
   "cell_type": "code",
   "execution_count": 27,
   "id": "ab5f6bcf-6355-4836-a0a3-9bde40ed64f7",
   "metadata": {},
   "outputs": [
    {
     "data": {
      "text/plain": [
       "0"
      ]
     },
     "execution_count": 27,
     "metadata": {},
     "output_type": "execute_result"
    }
   ],
   "source": [
    "product"
   ]
  },
  {
   "cell_type": "markdown",
   "id": "ecc994bc-304b-4373-b030-8d0eef838143",
   "metadata": {},
   "source": [
    "Q2 - Write a python program for encrypting a message sent to you by your friend. The logic of encryption\n",
    "should be such that, for a the output should be z. For b, the output should be y. For c, the output should\n",
    "be x respectively. Also, the whitespace should be replaced with a dollar sign. Keep the punctuation\n",
    "marks unchanged."
   ]
  },
  {
   "cell_type": "code",
   "execution_count": 28,
   "id": "6534e3a0-6942-410f-ba76-08a14fb34869",
   "metadata": {},
   "outputs": [],
   "source": [
    "s = 'my name is harsh'"
   ]
  },
  {
   "cell_type": "code",
   "execution_count": 29,
   "id": "58acfddc-35ee-4a42-add6-6dc9a51a7e78",
   "metadata": {},
   "outputs": [
    {
     "data": {
      "text/plain": [
       "'my nsme is hsrsh'"
      ]
     },
     "execution_count": 29,
     "metadata": {},
     "output_type": "execute_result"
    }
   ],
   "source": [
    "s.replace('a','s')"
   ]
  },
  {
   "cell_type": "code",
   "execution_count": 31,
   "id": "e7c3f459-9c08-4209-a678-538c631e23dc",
   "metadata": {},
   "outputs": [
    {
     "data": {
      "text/plain": [
       "'my$name$is$harsh'"
      ]
     },
     "execution_count": 31,
     "metadata": {},
     "output_type": "execute_result"
    }
   ],
   "source": [
    "s.replace(' ','$')"
   ]
  },
  {
   "cell_type": "code",
   "execution_count": 36,
   "id": "8b715bdb-aa51-400c-8267-1a7d825c22c1",
   "metadata": {},
   "outputs": [],
   "source": [
    "def encrypt(x):\n",
    "    new = ''\n",
    "    for i in x:\n",
    "        if i.lower() == ' ':\n",
    "            new = new + '$'\n",
    "        elif i.lower() == 'a':\n",
    "            new = new + 'z'\n",
    "        elif i.lower() == 'b':\n",
    "            new = new + 'y'\n",
    "        elif i.lower() == 'C':\n",
    "            new = new + 'z'\n",
    "        else :\n",
    "            new = new + i\n",
    "    return new\n",
    "    "
   ]
  },
  {
   "cell_type": "code",
   "execution_count": 37,
   "id": "42c4a02e-585b-44a1-8009-021996a929ff",
   "metadata": {},
   "outputs": [
    {
     "name": "stdin",
     "output_type": "stream",
     "text": [
      "please enter your message my cat in zoo, your pussy is pink. i WANNA SUCK IT\n"
     ]
    },
    {
     "name": "stdout",
     "output_type": "stream",
     "text": [
      "my$czt$in$zoo,$your$pussy$is$pink.$i$WzNNz$SUCK$IT\n"
     ]
    }
   ],
   "source": [
    "message = input(\"please enter your message\")\n",
    "ss = encrypt(message)\n",
    "print(ss)"
   ]
  },
  {
   "cell_type": "code",
   "execution_count": null,
   "id": "197957d3-ebd2-49fc-a89e-3e0e1b9d1bd2",
   "metadata": {},
   "outputs": [],
   "source": []
  }
 ],
 "metadata": {
  "kernelspec": {
   "display_name": "Python 3 (ipykernel)",
   "language": "python",
   "name": "python3"
  },
  "language_info": {
   "codemirror_mode": {
    "name": "ipython",
    "version": 3
   },
   "file_extension": ".py",
   "mimetype": "text/x-python",
   "name": "python",
   "nbconvert_exporter": "python",
   "pygments_lexer": "ipython3",
   "version": "3.10.8"
  }
 },
 "nbformat": 4,
 "nbformat_minor": 5
}
