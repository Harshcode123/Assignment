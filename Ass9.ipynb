{
 "cells": [
  {
   "cell_type": "markdown",
   "id": "ca979e43-ddb9-4915-91fe-4233f7060c63",
   "metadata": {},
   "source": [
    "Q1. What is Abstraction in OOps? Explain with an example."
   ]
  },
  {
   "cell_type": "code",
   "execution_count": 1,
   "id": "5d17a2a6-f519-42e0-bc24-182aa0c4ecc1",
   "metadata": {},
   "outputs": [
    {
     "data": {
      "text/plain": [
       "'Abstraction is one of the fundamental principles of Object-Oriented Programming (OOP) \\nthat focuses on hiding the complex implementation details and showing only the essential \\nfeatures of an object. In Python, abstraction is achieved using abstract classes and interfaces, \\nwhich define methods that must be implemented by derived classes.'"
      ]
     },
     "execution_count": 1,
     "metadata": {},
     "output_type": "execute_result"
    }
   ],
   "source": [
    "'''Abstraction is one of the fundamental principles of Object-Oriented Programming (OOP) \n",
    "that focuses on hiding the complex implementation details and showing only the essential \n",
    "features of an object. In Python, abstraction is achieved using abstract classes and interfaces, \n",
    "which define methods that must be implemented by derived classes.'''"
   ]
  },
  {
   "cell_type": "code",
   "execution_count": 3,
   "id": "ec311fb7-b74d-4fb5-b21c-fb9fcf1eabaf",
   "metadata": {},
   "outputs": [],
   "source": [
    "import abc\n",
    "class car:\n",
    "    @abc.abstractmethod\n",
    "    def color(self):\n",
    "        pass\n",
    "    @abc.abstractmethod\n",
    "    def model(self):\n",
    "        pass"
   ]
  },
  {
   "cell_type": "code",
   "execution_count": 5,
   "id": "30872de9-a621-433d-8c7f-93475a2dcbcc",
   "metadata": {},
   "outputs": [],
   "source": [
    "class details(car):\n",
    "    \n",
    "    def color(self):\n",
    "        return \"this car is back\"\n",
    "    def model(self):\n",
    "        return \"this is first model\""
   ]
  },
  {
   "cell_type": "code",
   "execution_count": 6,
   "id": "24269115-920d-4c35-95fc-deb4e64474ce",
   "metadata": {},
   "outputs": [],
   "source": [
    "car = details()"
   ]
  },
  {
   "cell_type": "code",
   "execution_count": 8,
   "id": "5c3f0304-fb65-4c70-8929-a8b8e65bb68b",
   "metadata": {},
   "outputs": [
    {
     "data": {
      "text/plain": [
       "'this car is back'"
      ]
     },
     "execution_count": 8,
     "metadata": {},
     "output_type": "execute_result"
    }
   ],
   "source": [
    "car.color()"
   ]
  },
  {
   "cell_type": "markdown",
   "id": "ef21840b-7a1b-466c-999f-313efea649cf",
   "metadata": {},
   "source": [
    "Q2. Differentiate between Abstraction and Encapsulation. Explain with an example."
   ]
  },
  {
   "cell_type": "code",
   "execution_count": 9,
   "id": "995dcc9e-d9a2-4dbe-aa17-379ffeed6efb",
   "metadata": {},
   "outputs": [
    {
     "data": {
      "text/plain": [
       "'Abstraction :-\\nAbstraction focuses on hiding the complex implementation details and \\nexposing only the necessary features of an object. It allows a programmer to deal with ideas and concepts instead of low-level details'"
      ]
     },
     "execution_count": 9,
     "metadata": {},
     "output_type": "execute_result"
    }
   ],
   "source": [
    "'''Abstraction :-\n",
    "Abstraction focuses on hiding the complex implementation details and \n",
    "exposing only the necessary features of an object. It allows a programmer to deal with ideas \\\n",
    "and concepts instead of low-level details'''"
   ]
  },
  {
   "cell_type": "code",
   "execution_count": 10,
   "id": "ee98d355-a35e-4f8c-b1d5-9cbfbd679d6b",
   "metadata": {},
   "outputs": [],
   "source": [
    "class vehicle:\n",
    "    @abc.abstractmethod\n",
    "    def start_engine(self):\n",
    "        pass\n",
    "    @abc.abstractmethod\n",
    "    def stop_engine(self):\n",
    "        pass"
   ]
  },
  {
   "cell_type": "code",
   "execution_count": 11,
   "id": "0b0e8d01-9e78-4da6-904e-ebcf3cebbf59",
   "metadata": {},
   "outputs": [],
   "source": [
    "class car(vehicle):\n",
    "    def start_engine(self):\n",
    "        return \"car engine started\"\n",
    "    def stop_engine(self):\n",
    "        return \"car engine stoped\""
   ]
  },
  {
   "cell_type": "code",
   "execution_count": 12,
   "id": "fc788ca5-7a98-4708-a394-e9fec5c4bf77",
   "metadata": {},
   "outputs": [],
   "source": [
    "vehicle_status = car()"
   ]
  },
  {
   "cell_type": "code",
   "execution_count": 13,
   "id": "b779b195-b34b-4d04-b800-e2f0a7bd258d",
   "metadata": {},
   "outputs": [
    {
     "data": {
      "text/plain": [
       "'car engine started'"
      ]
     },
     "execution_count": 13,
     "metadata": {},
     "output_type": "execute_result"
    }
   ],
   "source": [
    "vehicle_status.start_engine()"
   ]
  },
  {
   "cell_type": "code",
   "execution_count": 14,
   "id": "fd4b0a60-40f0-4acc-861b-e85ddef7fd80",
   "metadata": {},
   "outputs": [
    {
     "data": {
      "text/plain": [
       "\"Encapsulation :- \\nEncapsulation is the bundling of data (attributes) and methods (functions) that \\noperate on the data into a single unit or class, restricting direct access to some of the \\nobject's components.\""
      ]
     },
     "execution_count": 14,
     "metadata": {},
     "output_type": "execute_result"
    }
   ],
   "source": [
    "'''Encapsulation :- \n",
    "Encapsulation is the bundling of data (attributes) and methods (functions) that \n",
    "operate on the data into a single unit or class, restricting direct access to some of the \n",
    "object's components.'''"
   ]
  },
  {
   "cell_type": "code",
   "execution_count": 15,
   "id": "d892ad5a-0c97-462b-a473-40f312f03a53",
   "metadata": {},
   "outputs": [],
   "source": [
    "class BankAccount:\n",
    "    \n",
    "    def __init__(self, owner, balance=0):\n",
    "        self.owner = owner\n",
    "        self.__balance = balance\n",
    "    \n",
    "    def deposit(self, amount):\n",
    "        if amount > 0:\n",
    "            self.__balance += amount\n",
    "    \n",
    "    def withdraw(self, amount):\n",
    "        if 0 < amount <= self.__balance:\n",
    "            self.__balance -= amount\n",
    "        else:\n",
    "            print(\"Insufficient funds\")\n",
    "    \n",
    "    def get_balance(self):\n",
    "        return self.__balance\n"
   ]
  },
  {
   "cell_type": "code",
   "execution_count": 16,
   "id": "1286919b-ca71-4b00-8ffa-3d94128a242c",
   "metadata": {},
   "outputs": [],
   "source": [
    "account = BankAccount(\"Tom\",20000)"
   ]
  },
  {
   "cell_type": "code",
   "execution_count": 17,
   "id": "1ae2e703-be2a-4fd4-97e5-c39666a3a748",
   "metadata": {},
   "outputs": [],
   "source": [
    "account.withdraw(1000)"
   ]
  },
  {
   "cell_type": "code",
   "execution_count": 18,
   "id": "780c51ba-8627-467f-8ee1-1de797ed8dc2",
   "metadata": {},
   "outputs": [
    {
     "data": {
      "text/plain": [
       "19000"
      ]
     },
     "execution_count": 18,
     "metadata": {},
     "output_type": "execute_result"
    }
   ],
   "source": [
    "account.get_balance()"
   ]
  },
  {
   "cell_type": "code",
   "execution_count": 20,
   "id": "fde34235-b376-4d54-9549-95d4741ef3ca",
   "metadata": {},
   "outputs": [],
   "source": [
    "account.deposit(-20)"
   ]
  },
  {
   "cell_type": "code",
   "execution_count": 21,
   "id": "5dd7266f-a0a2-4a52-9229-cd9b4d6dd860",
   "metadata": {},
   "outputs": [
    {
     "data": {
      "text/plain": [
       "19000"
      ]
     },
     "execution_count": 21,
     "metadata": {},
     "output_type": "execute_result"
    }
   ],
   "source": [
    "account.get_balance()"
   ]
  },
  {
   "cell_type": "markdown",
   "id": "1a932cf8-cdf9-40c7-990a-7eecde027f79",
   "metadata": {},
   "source": [
    "Q3. What is abc module in python? Why is it used?"
   ]
  },
  {
   "cell_type": "code",
   "execution_count": 22,
   "id": "c0c903e1-b0c7-4804-af9c-7e11008922e7",
   "metadata": {},
   "outputs": [
    {
     "data": {
      "text/plain": [
       "'The abc module in Python stands for \"Abstract Base Classes.\" \\nIt is part of the standard library and provides the infrastructure for defining abstract base classes. \\nThis module is used to define classes that are intended to be inherited from, but not instantiated directly.\\nAbstract base classes can include abstract methods, \\nwhich are methods that are declared but contain no implementation. \\nThese methods must be implemented by any subclass inheriting the abstract class.'"
      ]
     },
     "execution_count": 22,
     "metadata": {},
     "output_type": "execute_result"
    }
   ],
   "source": [
    "'''The abc module in Python stands for \"Abstract Base Classes.\" \n",
    "It is part of the standard library and provides the infrastructure for defining abstract base classes. \n",
    "This module is used to define classes that are intended to be inherited from, but not instantiated directly.\n",
    "Abstract base classes can include abstract methods, \n",
    "which are methods that are declared but contain no implementation. \n",
    "These methods must be implemented by any subclass inheriting the abstract class.'''"
   ]
  },
  {
   "cell_type": "code",
   "execution_count": 23,
   "id": "ac020d5e-1185-4a41-ac02-88c728f601a8",
   "metadata": {},
   "outputs": [
    {
     "data": {
      "text/plain": [
       "'Use\\n1. To Enforce a Common Interface\\n2. Code Reusability\\n3. Maintainability\\n4. Design by Contract'"
      ]
     },
     "execution_count": 23,
     "metadata": {},
     "output_type": "execute_result"
    }
   ],
   "source": [
    "'''Use\n",
    "1. To Enforce a Common Interface\n",
    "2. Code Reusability\n",
    "3. Maintainability\n",
    "4. Design by Contract'''"
   ]
  },
  {
   "cell_type": "markdown",
   "id": "15fe66a6-f6bf-4c2e-99ca-008203fde5e1",
   "metadata": {},
   "source": [
    "Q4. How can we achieve data abstraction?"
   ]
  },
  {
   "cell_type": "code",
   "execution_count": 26,
   "id": "54fbb10e-14ef-45f4-b3f5-e48ff47b66d1",
   "metadata": {},
   "outputs": [
    {
     "data": {
      "text/plain": [
       "'we can achieve data abstraction by below method:\\n1. Abstract Classes and Methods\\n2. Encapsulation'"
      ]
     },
     "execution_count": 26,
     "metadata": {},
     "output_type": "execute_result"
    }
   ],
   "source": [
    "'''we can achieve data abstraction by below method:\n",
    "1. Abstract Classes and Methods\n",
    "2. Encapsulation\n",
    "3. Properties and Getter/Setter Methods'''"
   ]
  },
  {
   "cell_type": "code",
   "execution_count": 28,
   "id": "da93bae5-b8b6-4066-b5cd-092bab97d92f",
   "metadata": {},
   "outputs": [
    {
     "data": {
      "text/plain": [
       "'Abstract classes are meant to serve as blueprints for other classes. \\nThey define methods that derived classes must implement, ensuring a consistent interface. \\nAn abstract class itself is incomplete and often contains abstract methods—methods declared without any implementation. \\nBecause of this incomplete nature, creating an instance of an abstract class is not allowed.'"
      ]
     },
     "execution_count": 28,
     "metadata": {},
     "output_type": "execute_result"
    }
   ],
   "source": [
    "'''Abstract classes are meant to serve as blueprints for other classes. \n",
    "They define methods that derived classes must implement, ensuring a consistent interface. \n",
    "An abstract class itself is incomplete and often contains abstract methods—methods declared without any implementation. \n",
    "Because of this incomplete nature, creating an instance of an abstract class is not allowed.'''"
   ]
  },
  {
   "cell_type": "code",
   "execution_count": 35,
   "id": "0d1aeb06-37b5-48c1-9a35-8c015d94b9f5",
   "metadata": {},
   "outputs": [],
   "source": [
    "class vehicle1:\n",
    "    @abc.abstractmethod\n",
    "    def start_engine1(self):\n",
    "        pass\n",
    "    @abc.abstractmethod\n",
    "    def end_engine1(self):\n",
    "        pass"
   ]
  },
  {
   "cell_type": "code",
   "execution_count": 37,
   "id": "e43fd1c0-74e0-4940-a0d5-6da5601b0371",
   "metadata": {},
   "outputs": [],
   "source": [
    "car1 = vehicle1()"
   ]
  },
  {
   "cell_type": "code",
   "execution_count": 38,
   "id": "6d076517-5e15-4850-941a-4fb1da62f3ee",
   "metadata": {},
   "outputs": [],
   "source": [
    "car1.start_engine1()"
   ]
  },
  {
   "cell_type": "code",
   "execution_count": null,
   "id": "6e6a2c18-4e75-44c7-82ed-f64b0a13bf3f",
   "metadata": {},
   "outputs": [],
   "source": []
  }
 ],
 "metadata": {
  "kernelspec": {
   "display_name": "Python 3 (ipykernel)",
   "language": "python",
   "name": "python3"
  },
  "language_info": {
   "codemirror_mode": {
    "name": "ipython",
    "version": 3
   },
   "file_extension": ".py",
   "mimetype": "text/x-python",
   "name": "python",
   "nbconvert_exporter": "python",
   "pygments_lexer": "ipython3",
   "version": "3.10.8"
  }
 },
 "nbformat": 4,
 "nbformat_minor": 5
}
