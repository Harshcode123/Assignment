{
 "cells": [
  {
   "cell_type": "markdown",
   "id": "4436f0cb-7b9c-4afb-bb00-6d8fef62e570",
   "metadata": {},
   "source": [
    "Q1. What is an Exception in python? Write the differen,e etween Exceptions and syntax errors"
   ]
  },
  {
   "cell_type": "code",
   "execution_count": 1,
   "id": "556f5234-045e-4ff8-a573-dc0cf1ffe455",
   "metadata": {},
   "outputs": [
    {
     "data": {
      "text/plain": [
       "'In Python, an exception is an event that occurs during the execution of a program that disrupts the normal flow of instructions.\\nWhen a Python script encounters a situation that it cannot cope with, it raises an exception.\\nAn exception is a signal that an error or unexpected situation has occurred.'"
      ]
     },
     "execution_count": 1,
     "metadata": {},
     "output_type": "execute_result"
    }
   ],
   "source": [
    "'''In Python, an exception is an event that occurs during the execution of a program that disrupts the normal flow of instructions.\n",
    "When a Python script encounters a situation that it cannot cope with, it raises an exception.\n",
    "An exception is a signal that an error or unexpected situation has occurred.'''"
   ]
  },
  {
   "cell_type": "code",
   "execution_count": 2,
   "id": "14dca97f-2e80-4c03-8dcb-0198578d4e48",
   "metadata": {},
   "outputs": [
    {
     "ename": "SyntaxError",
     "evalue": "incomplete input (3710300324.py, line 2)",
     "output_type": "error",
     "traceback": [
      "\u001b[0;36m  Cell \u001b[0;32mIn[2], line 2\u001b[0;36m\u001b[0m\n\u001b[0;31m    print(\"Hello, World\"\u001b[0m\n\u001b[0m                        ^\u001b[0m\n\u001b[0;31mSyntaxError\u001b[0m\u001b[0;31m:\u001b[0m incomplete input\n"
     ]
    }
   ],
   "source": [
    "#syntax error\n",
    "print(\"Hello, World\""
   ]
  },
  {
   "cell_type": "code",
   "execution_count": 4,
   "id": "fee8b174-faee-4212-bde5-038e7834a13d",
   "metadata": {},
   "outputs": [
    {
     "name": "stdout",
     "output_type": "stream",
     "text": [
      "You can't divide by zero!\n"
     ]
    }
   ],
   "source": [
    "#Exception\n",
    "try:\n",
    "    result = 10 / 0\n",
    "except ZeroDivisionError:\n",
    "    print(\"You can't divide by zero!\")"
   ]
  },
  {
   "cell_type": "markdown",
   "id": "541e6025-afd6-428f-9cac-be7a7844bd49",
   "metadata": {},
   "source": [
    "Q2. what happens when an exception not handled? explain with an example"
   ]
  },
  {
   "cell_type": "code",
   "execution_count": 5,
   "id": "81bcb003-327a-48ae-8f14-f9cb0a74d98c",
   "metadata": {},
   "outputs": [
    {
     "data": {
      "text/plain": [
       "'When an exception is not handled in Python, it causes the program to terminate immediately,\\nand an error message (traceback) is displayed. \\nThis traceback provides details about the type of exception, where it occurred, and \\nthe sequence of function calls that led to the exception.'"
      ]
     },
     "execution_count": 5,
     "metadata": {},
     "output_type": "execute_result"
    }
   ],
   "source": [
    "'''When an exception is not handled in Python, it causes the program to terminate immediately,\n",
    "and an error message (traceback) is displayed. \n",
    "This traceback provides details about the type of exception, where it occurred, and \n",
    "the sequence of function calls that led to the exception.'''"
   ]
  },
  {
   "cell_type": "code",
   "execution_count": 10,
   "id": "90250efe-ae48-4a21-a642-568a5c25258f",
   "metadata": {},
   "outputs": [
    {
     "name": "stdout",
     "output_type": "stream",
     "text": [
      "Error: division by zero\n",
      "Result: None\n"
     ]
    }
   ],
   "source": [
    "def divide(a, b):\n",
    "    return a / b\n",
    "\n",
    "try:\n",
    "    result = divide(10, 0)\n",
    "except ZeroDivisionError as e:\n",
    "    print(\"Error:\", e)\n",
    "    result = None\n",
    "\n",
    "print(\"Result:\", result)\n"
   ]
  },
  {
   "cell_type": "markdown",
   "id": "b23d32bd-3b08-4d24-a2f9-89db98669f84",
   "metadata": {},
   "source": [
    "Q3. Which python statements are used to catch and handle exception? explain with an example"
   ]
  },
  {
   "cell_type": "code",
   "execution_count": 12,
   "id": "f4bd494d-dfae-471d-96bb-c5a77c053ca9",
   "metadata": {},
   "outputs": [
    {
     "name": "stdout",
     "output_type": "stream",
     "text": [
      "Error: division by zero\n",
      "Execution of the 'try-except' block is complete.\n",
      "Result: None\n",
      "Division successful!\n",
      "Execution of the 'try-except' block is complete.\n",
      "Result: 5.0\n"
     ]
    }
   ],
   "source": [
    "def divide(a, b):\n",
    "    try:\n",
    "        result = a / b\n",
    "    except ZeroDivisionError as e:\n",
    "        print(f\"Error: {e}\")\n",
    "        return None\n",
    "    else:\n",
    "        print(\"Division successful!\")\n",
    "        return result\n",
    "    finally:\n",
    "        print(\"Execution of the 'try-except' block is complete.\")\n"
   ]
  },
  {
   "cell_type": "code",
   "execution_count": 13,
   "id": "c9b78644-b187-4278-8847-8b70a4a97feb",
   "metadata": {},
   "outputs": [
    {
     "name": "stdout",
     "output_type": "stream",
     "text": [
      "Error: division by zero\n",
      "Execution of the 'try-except' block is complete.\n",
      "Result: None\n"
     ]
    }
   ],
   "source": [
    "result = divide(10, 0)\n",
    "print(\"Result:\", result)"
   ]
  },
  {
   "cell_type": "code",
   "execution_count": 14,
   "id": "b7a00688-4bb6-4096-a4be-155bcac96b80",
   "metadata": {},
   "outputs": [
    {
     "name": "stdout",
     "output_type": "stream",
     "text": [
      "Division successful!\n",
      "Execution of the 'try-except' block is complete.\n",
      "Result: 5.0\n"
     ]
    }
   ],
   "source": [
    "result = divide(10, 2)\n",
    "print(\"Result:\", result)"
   ]
  },
  {
   "cell_type": "markdown",
   "id": "32a7ea20-f5be-4e06-94c2-4c1a7c173ae3",
   "metadata": {},
   "source": [
    "Q4. Explain with an example:\n",
    "    a. try and else\n",
    "    b. finally\n",
    "    c. raise"
   ]
  },
  {
   "cell_type": "code",
   "execution_count": 22,
   "id": "395d213c-a5e7-4749-b53c-ef3fad68acd6",
   "metadata": {},
   "outputs": [
    {
     "name": "stdout",
     "output_type": "stream",
     "text": [
      "Error: The divisor cannot be zero.\n",
      "Execution of the 'try-except-else-finally' block is complete.\n",
      "Result: None\n",
      "Division successful!\n",
      "Execution of the 'try-except-else-finally' block is complete.\n",
      "Result: 5.0\n",
      "Error: unsupported operand type(s) for /: 'int' and 'str' - Both operands must be numbers.\n",
      "Execution of the 'try-except-else-finally' block is complete.\n",
      "Result: None\n"
     ]
    }
   ],
   "source": [
    "def divide(a, b):\n",
    "    try:\n",
    "        if b == 0:\n",
    "            raise ValueError(\"The divisor cannot be zero.\")\n",
    "        result = a / b\n",
    "    except ZeroDivisionError as e:\n",
    "        print(f\"Error: {e}\")\n",
    "        return None\n",
    "    except ValueError as e:\n",
    "        print(f\"Error: {e}\")\n",
    "        return None\n",
    "    except TypeError as e:\n",
    "        print(f\"Error: {e} - Both operands must be numbers.\")\n",
    "        return None\n",
    "    else:\n",
    "        print(\"Division successful!\")\n",
    "        return result\n",
    "    finally:\n",
    "        print(\"Execution of the 'try-except-else-finally' block is complete.\")\n",
    "\n",
    "# Test the function with different inputs\n",
    "result = divide(10, 0)  # Should raise a ValueError\n",
    "print(\"Result:\", result)\n",
    "\n",
    "result = divide(10, 2)  # Successful division\n",
    "print(\"Result:\", result)\n",
    "\n",
    "result = divide(10, \"a\")  # TypeError, now handled explicitly\n",
    "print(\"Result:\", result)\n"
   ]
  },
  {
   "cell_type": "markdown",
   "id": "ea134e1c-d519-4ee4-8d84-128c517e9798",
   "metadata": {},
   "source": [
    "Q5. What is custome Exception in python? why do we need custome Exception? explain with an example"
   ]
  },
  {
   "cell_type": "code",
   "execution_count": 1,
   "id": "0a8e8efa-ca11-46d0-acd4-d83e19ed3035",
   "metadata": {},
   "outputs": [
    {
     "data": {
      "text/plain": [
       "\" Custom exceptions are useful for handling specific error conditions that are not covered by the standard exceptions provided by Python.\\nBy creating custom exceptions, you can provide more meaningful error messages and handle errors in a way that is more appropriate for your \\napplication's context.\\n\\n** Need of Custom Exceptions\\n\\n1. Clarity and Specificity\\n2. Error Handling\\n3. Code Organization\\n4. Debugging\""
      ]
     },
     "execution_count": 1,
     "metadata": {},
     "output_type": "execute_result"
    }
   ],
   "source": [
    "''' Custom exceptions are useful for handling specific error conditions that are not covered by the standard exceptions provided by Python.\n",
    "By creating custom exceptions, you can provide more meaningful error messages and handle errors in a way that is more appropriate for your \n",
    "application's context.\n",
    "\n",
    "** Need of Custom Exceptions\n",
    "\n",
    "1. Clarity and Specificity\n",
    "2. Error Handling\n",
    "3. Code Organization\n",
    "4. Debugging'''"
   ]
  },
  {
   "cell_type": "code",
   "execution_count": 2,
   "id": "d93ba6f4-e5e3-4165-a632-e25ff4ff0aea",
   "metadata": {},
   "outputs": [],
   "source": [
    "class bankError(Exception):\n",
    "    def __init__(self, msg):\n",
    "        self.msg = msg"
   ]
  },
  {
   "cell_type": "code",
   "execution_count": 7,
   "id": "fc9d7f7d-4a53-4983-ab64-af0f8cf1ed3b",
   "metadata": {},
   "outputs": [],
   "source": [
    "def deposite(amount):\n",
    "    if amount <0 :\n",
    "        raise bankError(\"wrong Amount\")\n",
    "    else:\n",
    "       print(\"deposite successfully\")"
   ]
  },
  {
   "cell_type": "code",
   "execution_count": 8,
   "id": "65a29466-bd1e-4fc5-ae93-1a8ff1b7ed51",
   "metadata": {},
   "outputs": [
    {
     "name": "stdout",
     "output_type": "stream",
     "text": [
      "deposite successfully\n"
     ]
    }
   ],
   "source": [
    "try:\n",
    "    deposite(200)\n",
    "except bankError as e:\n",
    "    print(e)"
   ]
  },
  {
   "cell_type": "code",
   "execution_count": null,
   "id": "972dea98-88aa-4011-aefd-cd874272950d",
   "metadata": {},
   "outputs": [],
   "source": []
  }
 ],
 "metadata": {
  "kernelspec": {
   "display_name": "Python 3 (ipykernel)",
   "language": "python",
   "name": "python3"
  },
  "language_info": {
   "codemirror_mode": {
    "name": "ipython",
    "version": 3
   },
   "file_extension": ".py",
   "mimetype": "text/x-python",
   "name": "python",
   "nbconvert_exporter": "python",
   "pygments_lexer": "ipython3",
   "version": "3.10.8"
  }
 },
 "nbformat": 4,
 "nbformat_minor": 5
}
