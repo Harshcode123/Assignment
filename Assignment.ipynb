{
 "cells": [
  {
   "cell_type": "markdown",
   "id": "cac40e5b-839b-432d-9210-4c396c142c11",
   "metadata": {},
   "source": [
    "#Q1 For And While Loop"
   ]
  },
  {
   "cell_type": "code",
   "execution_count": 6,
   "id": "c2781978-d673-454e-9c81-47edeb9877b1",
   "metadata": {},
   "outputs": [
    {
     "name": "stdout",
     "output_type": "stream",
     "text": [
      "The sum of List is: 55\n"
     ]
    }
   ],
   "source": [
    "Total = 0\n",
    "\n",
    "for i in list(range(1,11)):\n",
    "    Total = Total + i\n",
    "print(\"The sum of List is:\",Total)\n"
   ]
  },
  {
   "cell_type": "code",
   "execution_count": 15,
   "id": "cb5558b9-3319-42ff-96e7-e64adfaf3a59",
   "metadata": {},
   "outputs": [
    {
     "name": "stdout",
     "output_type": "stream",
     "text": [
      "The sum of List is: 55\n"
     ]
    }
   ],
   "source": [
    "L = list(range(1,11))\n",
    "Total = 0\n",
    "n = 1\n",
    "while n <= len(L):\n",
    "    Total = Total + n\n",
    "    n = n+1\n",
    "print(\"The sum of List is:\",Total)\n"
   ]
  },
  {
   "cell_type": "markdown",
   "id": "38c3a9eb-99b3-43a5-a063-28d782e6a3e0",
   "metadata": {},
   "source": [
    "Q2 - For and while loop"
   ]
  },
  {
   "cell_type": "code",
   "execution_count": 16,
   "id": "e45e7bb0-dd62-4bda-a411-e55c20e7a9a6",
   "metadata": {},
   "outputs": [
    {
     "name": "stdout",
     "output_type": "stream",
     "text": [
      "Sum: 55\n",
      "Product 3628800\n"
     ]
    }
   ],
   "source": [
    "Sum = 0\n",
    "Product = 1\n",
    "\n",
    "l1 = list(range(1,11))\n",
    "for i in l1:\n",
    "    Sum = Sum + i\n",
    "    \n",
    "for i in l1:\n",
    "    Product = Product * i\n",
    "    \n",
    "print(\"Sum:\",Sum)\n",
    "print(\"Product\",Product)"
   ]
  },
  {
   "cell_type": "markdown",
   "id": "22cfe1e2-c49a-475f-9484-ec37e8d70fc8",
   "metadata": {},
   "source": [
    "Q3 - Consumption of electricity bill"
   ]
  },
  {
   "cell_type": "code",
   "execution_count": 51,
   "id": "d7b8af07-8c24-448d-bc0c-f0eaae9c1b1f",
   "metadata": {},
   "outputs": [
    {
     "name": "stdin",
     "output_type": "stream",
     "text": [
      "Enter the units of electricity consumed in a month:  310\n"
     ]
    },
    {
     "name": "stdout",
     "output_type": "stream",
     "text": [
      "Total electricity bill: 2250.0\n"
     ]
    }
   ],
   "source": [
    "units_consumed = int(input(\"Enter the units of electricity consumed in a month: \"))\n",
    "total_bill = 0\n",
    "\n",
    "if units_consumed <= 100:\n",
    "    total_bill += units_consumed * 4.5\n",
    "elif units_consumed <= 200:\n",
    "    total_bill += 100 * 4.5\n",
    "    total_bill += (units_consumed - 100) * 6\n",
    "elif units_consumed <= 300:\n",
    "    total_bill += 100 * 4.5\n",
    "    total_bill += 100 * 6\n",
    "    total_bill += (units_consumed - 200) * 10\n",
    "else:\n",
    "    total_bill += 100 * 4.5\n",
    "    total_bill += 100 * 6\n",
    "    total_bill += 100 * 10\n",
    "    total_bill += (units_consumed - 300) * 20\n",
    "\n",
    "print(\"Total electricity bill:\", total_bill)\n"
   ]
  },
  {
   "cell_type": "markdown",
   "id": "16e793c5-be86-4622-9e76-ca286c35a284",
   "metadata": {},
   "source": [
    "Q4 - find cude which divided by 4 and 5"
   ]
  },
  {
   "cell_type": "code",
   "execution_count": 29,
   "id": "1d792106-d5e5-4db9-bb09-5ba30ef04278",
   "metadata": {},
   "outputs": [
    {
     "name": "stdout",
     "output_type": "stream",
     "text": [
      "[2, 4, 5, 6, 8, 10, 12, 14, 15, 16, 18, 20, 22, 24, 25, 26, 28, 30, 32, 34, 35, 36, 38, 40, 42, 44, 45, 46, 48, 50, 52, 54, 55, 56, 58, 60, 62, 64, 65, 66, 68, 70, 72, 74, 75, 76, 78, 80, 82, 84, 85, 86, 88, 90, 92, 94, 95, 96, 98, 100]\n"
     ]
    }
   ],
   "source": [
    "cube = list(range(1,101))\n",
    "cube\n",
    "new = []\n",
    "for i in cube :\n",
    "    if (i*i*i)%4 ==0 or (i*i*i)%5 ==0 :\n",
    "        new.append(i)\n",
    "print(new)"
   ]
  },
  {
   "cell_type": "markdown",
   "id": "d9bcc16f-e05e-44ec-8ce3-7b3b75cc1e0f",
   "metadata": {},
   "source": [
    "Q5 - count vowels"
   ]
  },
  {
   "cell_type": "code",
   "execution_count": 49,
   "id": "2c8af01e-e26d-4512-af78-bbf2b6813484",
   "metadata": {},
   "outputs": [
    {
     "name": "stdout",
     "output_type": "stream",
     "text": [
      "14\n"
     ]
    }
   ],
   "source": [
    "string = \"I want to become a data scientist\"\n",
    "count = 0\n",
    "for i in string:\n",
    "    if i.lower() in {'a', 'e', 'i', 'o', 'u', 's'}:\n",
    "        count = count + 1\n",
    "print(count)\n"
   ]
  },
  {
   "cell_type": "code",
   "execution_count": null,
   "id": "788317d5-a8b3-46c4-8550-c133cfee563a",
   "metadata": {},
   "outputs": [],
   "source": []
  }
 ],
 "metadata": {
  "kernelspec": {
   "display_name": "Python 3 (ipykernel)",
   "language": "python",
   "name": "python3"
  },
  "language_info": {
   "codemirror_mode": {
    "name": "ipython",
    "version": 3
   },
   "file_extension": ".py",
   "mimetype": "text/x-python",
   "name": "python",
   "nbconvert_exporter": "python",
   "pygments_lexer": "ipython3",
   "version": "3.10.8"
  }
 },
 "nbformat": 4,
 "nbformat_minor": 5
}
