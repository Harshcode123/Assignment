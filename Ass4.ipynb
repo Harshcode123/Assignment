{
 "cells": [
  {
   "cell_type": "markdown",
   "id": "d2fee855-eb7d-4b7e-a8eb-7597afd4c93e",
   "metadata": {},
   "source": [
    "Q1. Explain Class and Object with respect to Object-Oriented Programming. Give a suitable example."
   ]
  },
  {
   "cell_type": "code",
   "execution_count": 1,
   "id": "44ed8f40-1166-494d-a271-8698b56e2c01",
   "metadata": {},
   "outputs": [
    {
     "data": {
      "text/plain": [
       "'In object-oriented programming (OOP), a class is a blueprint or template for creating objects.\\nObject is an instance of a class. It is a concrete realization of the class blueprint,\\n    with its own unique state (attribute values) and behavior (method implementations).'"
      ]
     },
     "execution_count": 1,
     "metadata": {},
     "output_type": "execute_result"
    }
   ],
   "source": [
    "'''In object-oriented programming (OOP), a class is a blueprint or template for creating objects.\n",
    "Object is an instance of a class. It is a concrete realization of the class blueprint,\n",
    "    with its own unique state (attribute values) and behavior (method implementations).'''"
   ]
  },
  {
   "cell_type": "code",
   "execution_count": 7,
   "id": "6fb8acf8-7f40-4e5e-a3c6-e2cdb53c2c70",
   "metadata": {},
   "outputs": [
    {
     "name": "stdout",
     "output_type": "stream",
     "text": [
      "(1, 'Ram', 'Manager')\n",
      "(2, 'shyam', 'executive')\n"
     ]
    }
   ],
   "source": [
    "class employee:\n",
    "    def __init__(self, emp_id, emp_name, emp_designation):\n",
    "        self.emp_id = emp_id\n",
    "        self.emp_name = emp_name\n",
    "        self.emp_designation = emp_designation\n",
    "    def details(self):\n",
    "        return  self.emp_id, self.emp_name, self.emp_designation\n",
    "Ram = employee(1,\"Ram\",\"Manager\")\n",
    "shyam = employee(2,\"shyam\",\"executive\")\n",
    "\n",
    "print(Ram.details())\n",
    "print(shyam.details())    "
   ]
  },
  {
   "cell_type": "markdown",
   "id": "08a8efbf-54c1-4a3b-8e4d-2a9d1e94a91e",
   "metadata": {},
   "source": [
    "Q2. Name the four pillars of OOPs."
   ]
  },
  {
   "cell_type": "code",
   "execution_count": 8,
   "id": "3b99ed23-c027-4fa3-aad2-88cd131a8e17",
   "metadata": {},
   "outputs": [
    {
     "data": {
      "text/plain": [
       "'1. Encapsulation\\n2. Abstraction\\n3. Inheritance\\n4. Polymorphism'"
      ]
     },
     "execution_count": 8,
     "metadata": {},
     "output_type": "execute_result"
    }
   ],
   "source": [
    "'''1. Encapsulation\n",
    "2. Abstraction\n",
    "3. Inheritance\n",
    "4. Polymorphism'''"
   ]
  },
  {
   "cell_type": "markdown",
   "id": "54b2780c-fa0e-400f-8f4e-c8619c229fb1",
   "metadata": {},
   "source": [
    "Q3. Explain why the __init__() function is used. Give a suitable example."
   ]
  },
  {
   "cell_type": "code",
   "execution_count": 10,
   "id": "df8060fc-8dfa-4be0-93ef-6f19da52a4af",
   "metadata": {},
   "outputs": [
    {
     "data": {
      "text/plain": [
       "'The __init__() function in Python is a special method used for initializing newly created objects. \\nIt is called automatically when a new instance of a class is created. \\nThe purpose of __init__() is to initialize the attributes of the object to their initial values or \\nto perform any other setup required for the object.'"
      ]
     },
     "execution_count": 10,
     "metadata": {},
     "output_type": "execute_result"
    }
   ],
   "source": [
    "'''The __init__() function in Python is a special method used for initializing newly created objects. \n",
    "It is called automatically when a new instance of a class is created. \n",
    "The purpose of __init__() is to initialize the attributes of the object to their initial values or \n",
    "to perform any other setup required for the object.'''"
   ]
  },
  {
   "cell_type": "code",
   "execution_count": 11,
   "id": "1077f374-3fa0-4eb3-a9c1-7c2c7573c95e",
   "metadata": {},
   "outputs": [
    {
     "name": "stdout",
     "output_type": "stream",
     "text": [
      "Hello, my name is Ram and I am 30 years old.\n",
      "Hello, my name is Shyam and I am 25 years old.\n"
     ]
    }
   ],
   "source": [
    "class Person:\n",
    "    def __init__(self, name, age):\n",
    "        self.name = name\n",
    "        self.age = age\n",
    "\n",
    "    def introduce(self):\n",
    "        return f\"Hello, my name is {self.name} and I am {self.age} years old.\"\n",
    "\n",
    "\n",
    "person1 = Person(\"Ram\", 30)\n",
    "person2 = Person(\"Shyam\", 25)\n",
    "print(person1.introduce()) \n",
    "print(person2.introduce()) \n"
   ]
  },
  {
   "cell_type": "markdown",
   "id": "f3c0ba3c-1cd1-4f8d-996b-2280be8e459a",
   "metadata": {},
   "source": [
    "Q5. What is inheritance? Give an example for each type of inheritance."
   ]
  },
  {
   "cell_type": "code",
   "execution_count": 12,
   "id": "cc9b3bbb-15a1-494d-ba2c-f890b7e30baf",
   "metadata": {},
   "outputs": [
    {
     "data": {
      "text/plain": [
       "'Inheritance is a fundamental concept in object-oriented programming (OOP) \\nwhere a new class (called a derived class or subclass) is created by inheriting \\nproperties and behaviors from an existing class (called a base class or superclass).'"
      ]
     },
     "execution_count": 12,
     "metadata": {},
     "output_type": "execute_result"
    }
   ],
   "source": [
    "'''Inheritance is a fundamental concept in object-oriented programming (OOP) \n",
    "where a new class (called a derived class or subclass) is created by inheriting \n",
    "properties and behaviors from an existing class (called a base class or superclass).'''"
   ]
  },
  {
   "cell_type": "code",
   "execution_count": 14,
   "id": "1b54cc2f-2461-4929-9138-051852b281bb",
   "metadata": {},
   "outputs": [
    {
     "data": {
      "text/plain": [
       "'1. Single Inheritance\\n2. Multiple Inheritance\\n3. Multilevel Inheritance\\n4. Hierarchical Inheritance'"
      ]
     },
     "execution_count": 14,
     "metadata": {},
     "output_type": "execute_result"
    }
   ],
   "source": [
    "'''1. Single Inheritance\n",
    "2. Multiple Inheritance\n",
    "3. Multilevel Inheritance\n",
    "4. Hierarchical Inheritance'''"
   ]
  }
 ],
 "metadata": {
  "kernelspec": {
   "display_name": "Python 3 (ipykernel)",
   "language": "python",
   "name": "python3"
  },
  "language_info": {
   "codemirror_mode": {
    "name": "ipython",
    "version": 3
   },
   "file_extension": ".py",
   "mimetype": "text/x-python",
   "name": "python",
   "nbconvert_exporter": "python",
   "pygments_lexer": "ipython3",
   "version": "3.10.8"
  }
 },
 "nbformat": 4,
 "nbformat_minor": 5
}
