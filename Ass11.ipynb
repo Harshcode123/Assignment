{
 "cells": [
  {
   "cell_type": "markdown",
   "id": "0806a2ed-dc2d-447a-8d51-d4c3d358dec4",
   "metadata": {},
   "source": [
    "Q1. Which function is used to open a file? What are the different modes of opening a file? Explain each mode\n",
    "of file opening."
   ]
  },
  {
   "cell_type": "code",
   "execution_count": 1,
   "id": "8e9017f8-64c4-4599-b239-929770396d43",
   "metadata": {},
   "outputs": [
    {
     "data": {
      "text/plain": [
       "'In Python, the open() function is used to open a file. \\nThe open() function can take two primary arguments: the file name (or path) \\nand the mode in which the file is to be opened.'"
      ]
     },
     "execution_count": 1,
     "metadata": {},
     "output_type": "execute_result"
    }
   ],
   "source": [
    "'''In Python, the open() function is used to open a file. \n",
    "The open() function can take two primary arguments: the file name (or path) \n",
    "and the mode in which the file is to be opened.'''"
   ]
  },
  {
   "cell_type": "raw",
   "id": "10560a4c-c85e-4a00-bcbe-87c1238c870f",
   "metadata": {},
   "source": [
    "# Opening a file for reading\n",
    "file = open('example.txt', 'r')\n",
    "\n",
    "# Opening a file for writing\n",
    "file = open('example.txt', 'w')\n",
    "\n",
    "# Opening a file for appending\n",
    "file = open('example.txt', 'a')\n",
    "\n",
    "# Opening a file in binary read mode\n",
    "file = open('example.txt', 'rb')\n",
    "\n",
    "# Opening a file in binary write mode\n",
    "file = open('example.txt', 'wb')\n",
    "\n",
    "# Opening a file for reading and writing\n",
    "file = open('example.txt', 'r+')\n",
    "\n",
    "# Always remember to close the file after use\n",
    "file.close()\n"
   ]
  },
  {
   "cell_type": "markdown",
   "id": "da6e726d-6b43-40f0-8dc1-57995e337447",
   "metadata": {},
   "source": [
    "Q2. Why close() function is used? Why is it important to close a file?"
   ]
  },
  {
   "cell_type": "code",
   "execution_count": 2,
   "id": "c125906f-3cd4-4369-9704-a1e0ca53388e",
   "metadata": {},
   "outputs": [
    {
     "data": {
      "text/plain": [
       "'Reasons to Use close()\\n1. Resource Management\\n2. Data Integrity\\n3. File Locks\\n4. Avoiding Errors'"
      ]
     },
     "execution_count": 2,
     "metadata": {},
     "output_type": "execute_result"
    }
   ],
   "source": [
    "'''Reasons to Use close()\n",
    "1. Resource Management\n",
    "2. Data Integrity\n",
    "3. File Locks\n",
    "4. Avoiding Errors'''"
   ]
  },
  {
   "cell_type": "markdown",
   "id": "6907a59c-e206-4cbe-9e8d-1235628af677",
   "metadata": {},
   "source": [
    "Q3. Write a python program to create a text file. Write ‘I want to become a Data Scientist’ in that file. Then\n",
    "close the file. Open this file and read the content of the file."
   ]
  },
  {
   "cell_type": "code",
   "execution_count": 11,
   "id": "8ee68978-fe2c-429b-9504-a414b27d758b",
   "metadata": {},
   "outputs": [],
   "source": [
    "with open('prog.txt', 'w') as f:\n",
    "    f.write('''Create your assignment in Jupyter notebook and upload it to GitHub & share that GitHub repository\n",
    "link through your dashboard. Make sure the repository is public.''')"
   ]
  },
  {
   "cell_type": "code",
   "execution_count": 12,
   "id": "b334ede3-9791-4fc1-bebb-71e8c3877f20",
   "metadata": {},
   "outputs": [
    {
     "name": "stdout",
     "output_type": "stream",
     "text": [
      "Create your assignment in Jupyter notebook and upload it to GitHub & share that GitHub repository\n",
      "link through your dashboard. Make sure the repository is public.\n"
     ]
    }
   ],
   "source": [
    "with open('prog.txt', 'r') as f:\n",
    "    print(f.read())"
   ]
  },
  {
   "cell_type": "markdown",
   "id": "4368ddee-116d-478d-a8c6-5b5a2debf27e",
   "metadata": {},
   "source": [
    "Q4. Explain the following with python code: read(), readline() and readlines()."
   ]
  },
  {
   "cell_type": "code",
   "execution_count": 13,
   "id": "f9e33a30-f72b-4822-b608-5b8973d12cc1",
   "metadata": {},
   "outputs": [
    {
     "name": "stdout",
     "output_type": "stream",
     "text": [
      "Create your assignment in Jupyter notebook and upload it to GitHub & share that GitHub repository\n",
      "link through your dashboard. Make sure the repository is public.\n"
     ]
    }
   ],
   "source": [
    "# Read the entire file content\n",
    "with open('prog.txt', 'r') as file:\n",
    "    print(file.read())"
   ]
  },
  {
   "cell_type": "code",
   "execution_count": 14,
   "id": "5ad0e26e-8f7f-4f9c-91cf-badff47b730d",
   "metadata": {},
   "outputs": [
    {
     "name": "stdout",
     "output_type": "stream",
     "text": [
      "Create your assignment in Jupyter notebook and upload it to GitHub & share that GitHub repository\n",
      "\n"
     ]
    }
   ],
   "source": [
    "# Read the file one line at a time\n",
    "with open('prog.txt', 'r') as file:\n",
    "    print(file.readline())"
   ]
  },
  {
   "cell_type": "code",
   "execution_count": 15,
   "id": "523e9f6a-2599-4b94-aa38-25788c08c082",
   "metadata": {},
   "outputs": [
    {
     "name": "stdout",
     "output_type": "stream",
     "text": [
      "['Create your assignment in Jupyter notebook and upload it to GitHub & share that GitHub repository\\n', 'link through your dashboard. Make sure the repository is public.']\n"
     ]
    }
   ],
   "source": [
    "# Read the file one line at a time\n",
    "with open('prog.txt', 'r') as file:\n",
    "    print(file.readlines())"
   ]
  },
  {
   "cell_type": "markdown",
   "id": "5ba67c19-bc82-47df-9ac5-924fec4423df",
   "metadata": {},
   "source": [
    "Q5. Explain why with statement is used with open(). What is the advantage of using with statement and\n",
    "open() together?"
   ]
  },
  {
   "cell_type": "code",
   "execution_count": 16,
   "id": "fca42a4d-d4ef-436b-98f0-34bba96408a5",
   "metadata": {},
   "outputs": [
    {
     "data": {
      "text/plain": [
       "'The with statement is used with the open() function in Python to handle files efficiently and safely.\\n\\n1. Automatic Resource Management\\n2. Cleaner and More Readable Code\\n3. Exception Handling\\n4. Reduced Risk of Bugs'"
      ]
     },
     "execution_count": 16,
     "metadata": {},
     "output_type": "execute_result"
    }
   ],
   "source": [
    "'''The with statement is used with the open() function in Python to handle files efficiently and safely.\n",
    "\n",
    "1. Automatic Resource Management\n",
    "2. Cleaner and More Readable Code\n",
    "3. Exception Handling\n",
    "4. Reduced Risk of Bugs'''"
   ]
  },
  {
   "cell_type": "markdown",
   "id": "0256b879-cb81-4652-a836-c641c9858985",
   "metadata": {},
   "source": [
    "Q6. Explain the write() and writelines() functions. Give a suitable example."
   ]
  },
  {
   "cell_type": "code",
   "execution_count": 17,
   "id": "e712c961-75a8-40fa-93f9-fca663de6cb2",
   "metadata": {},
   "outputs": [],
   "source": [
    "with open('prog.txt', 'w') as file:\n",
    "    file.write('This is the first line.\\n')\n",
    "    file.write('This is the second line.\\n')\n"
   ]
  },
  {
   "cell_type": "code",
   "execution_count": 20,
   "id": "e7291b64-620b-456b-889d-b6f557868178",
   "metadata": {},
   "outputs": [],
   "source": [
    "with open('prog.txt', 'w') as file:\n",
    "    lines = [\n",
    "        'First line.\\n',\n",
    "        'Second line.\\n',\n",
    "        'Third line.\\n'\n",
    "    ]\n",
    "    file.writelines(lines)\n",
    "\n"
   ]
  },
  {
   "cell_type": "code",
   "execution_count": null,
   "id": "f9ea6f31-8e97-4af5-a513-e0cdce762fd2",
   "metadata": {},
   "outputs": [],
   "source": []
  }
 ],
 "metadata": {
  "kernelspec": {
   "display_name": "Python 3 (ipykernel)",
   "language": "python",
   "name": "python3"
  },
  "language_info": {
   "codemirror_mode": {
    "name": "ipython",
    "version": 3
   },
   "file_extension": ".py",
   "mimetype": "text/x-python",
   "name": "python",
   "nbconvert_exporter": "python",
   "pygments_lexer": "ipython3",
   "version": "3.10.8"
  }
 },
 "nbformat": 4,
 "nbformat_minor": 5
}
