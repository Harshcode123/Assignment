{
 "cells": [
  {
   "cell_type": "markdown",
   "id": "a4998a5b-931e-4fc0-9a0b-ce1473ac1212",
   "metadata": {},
   "source": [
    "Q1. Write a program to accept percentage from the user and display the grade according to the following \n",
    "criteria\n",
    "Marks \n",
    "    Grade >90 A \n",
    "    >80 and <=90 B \n",
    "    >=60 and <=80 C \n",
    "    below 60 D\n"
   ]
  },
  {
   "cell_type": "code",
   "execution_count": 7,
   "id": "58cccaa7-b263-4a96-a00d-4238ff3ebf17",
   "metadata": {},
   "outputs": [
    {
     "name": "stdin",
     "output_type": "stream",
     "text": [
      "Enter your Mark percentage:- 92\n"
     ]
    },
    {
     "name": "stdout",
     "output_type": "stream",
     "text": [
      "A\n"
     ]
    }
   ],
   "source": [
    "marks = int(input(\"Enter your Mark percentage:-\"))\n",
    "\n",
    "if marks > 90 :\n",
    "    print(\"A\")\n",
    "elif marks >80 and marks <= 90:\n",
    "    print(\"B\")\n",
    "elif marks >= 60 and marks <= 80:\n",
    "    print(\"C\")\n",
    "else :\n",
    "    print(\"D\")\n",
    "             "
   ]
  },
  {
   "cell_type": "markdown",
   "id": "96e6b9b8-9e1f-4560-add4-145997271a60",
   "metadata": {},
   "source": [
    "Q2. Write a program to accept the cost price of a bike and display the road tax to be paid according to the \n",
    "following criteria: "
   ]
  },
  {
   "cell_type": "code",
   "execution_count": 4,
   "id": "3070949a-e772-4f8c-87cb-4422a841c014",
   "metadata": {},
   "outputs": [
    {
     "name": "stdin",
     "output_type": "stream",
     "text": [
      "Enter your bike price: 1000000\n"
     ]
    },
    {
     "name": "stdout",
     "output_type": "stream",
     "text": [
      "100000.0\n"
     ]
    }
   ],
   "source": [
    "price = int(input(\"Enter your bike price:\"))\n",
    "\n",
    "if price <= 500000:\n",
    "    print(price * 5/100)\n",
    "elif price > 500000 and price <= 1000000:\n",
    "    print(price * 10/100)\n",
    "else :\n",
    "    print(price * 15/100)"
   ]
  },
  {
   "cell_type": "markdown",
   "id": "c4a8802d-dc34-4e6a-b9a4-daca7b576786",
   "metadata": {},
   "source": [
    "Q3. Accept any city from the user and display monuments of that city."
   ]
  },
  {
   "cell_type": "code",
   "execution_count": 14,
   "id": "0736a398-b68d-4ede-9402-960c8335b5d2",
   "metadata": {},
   "outputs": [
    {
     "name": "stdin",
     "output_type": "stream",
     "text": [
      "Enter the city name: JAIPUR\n"
     ]
    },
    {
     "name": "stdout",
     "output_type": "stream",
     "text": [
      "The monument of JAIPUR is Jal Mahal\n"
     ]
    }
   ],
   "source": [
    "city = input(\"Enter the city name:\")\n",
    "if city.lower() == \"delhi\":\n",
    "    print(\"The monument of \"+ city+\" is Red Fort\")\n",
    "elif city.lower() == \"agra\":\n",
    "    print(\"The monument of \"+ city+\" is Taj Mahal\")\n",
    "elif city.lower() == \"jaipur\":\n",
    "    print(\"The monument of \"+ city+\" is Jal Mahal\")\n",
    "else :\n",
    "    print(\"Please select the suitable city name\")\n"
   ]
  },
  {
   "cell_type": "markdown",
   "id": "f8b86375-2649-4719-a07f-eb32a07c186d",
   "metadata": {},
   "source": [
    " Q4. Check how many times a given number can be divided by 3 before it is less than or equal to 10. "
   ]
  },
  {
   "cell_type": "code",
   "execution_count": 18,
   "id": "bbc63258-36bd-4f37-8868-54d87defb8a0",
   "metadata": {},
   "outputs": [
    {
     "name": "stdout",
     "output_type": "stream",
     "text": [
      "The number 12 can be divided by 3 1 times before it is less than or equal to 10.\n"
     ]
    }
   ],
   "source": [
    "def count_divisions_by_3(n):\n",
    "    count = 0\n",
    "    while n > 10:\n",
    "        n /= 3\n",
    "        count += 1\n",
    "    return count\n",
    "number = 12\n",
    "result = count_divisions_by_3(number)\n",
    "print(f\"The number {number} can be divided by 3 {result} times before it is less than or equal to 10.\")\n"
   ]
  },
  {
   "cell_type": "markdown",
   "id": "0fd0c8be-93d6-4754-afae-0ea3a8d30985",
   "metadata": {},
   "source": [
    "Q5. Why and When to Use while Loop in Python give a detailed description with example "
   ]
  },
  {
   "cell_type": "code",
   "execution_count": 20,
   "id": "ec6c4e23-d51b-4a88-839c-6f31a7a94749",
   "metadata": {},
   "outputs": [
    {
     "name": "stdin",
     "output_type": "stream",
     "text": [
      "Enter the password:  we\n"
     ]
    },
    {
     "name": "stdout",
     "output_type": "stream",
     "text": [
      "Incorrect password, try again.\n"
     ]
    },
    {
     "name": "stdin",
     "output_type": "stream",
     "text": [
      "Enter the password:  can\n"
     ]
    },
    {
     "name": "stdout",
     "output_type": "stream",
     "text": [
      "Incorrect password, try again.\n"
     ]
    },
    {
     "name": "stdin",
     "output_type": "stream",
     "text": [
      "Enter the password:  secret\n"
     ]
    },
    {
     "name": "stdout",
     "output_type": "stream",
     "text": [
      "Access granted\n"
     ]
    }
   ],
   "source": [
    "'''A while loop in Python is used to repeatedly execute a block of code as long as a given condition is true.\n",
    "It is especially useful when you don't know in advance how many times you need to execute the loop. \n",
    "Unlike a for loop, which iterates over a sequence (like a list, tuple, or range), \n",
    "a while loop continues until a specified condition becomes false.'''\n",
    "\n",
    "\n",
    "password = \"\"\n",
    "while password != \"secret\":\n",
    "    password = input(\"Enter the password: \")\n",
    "    if password == \"secret\":\n",
    "        print(\"Access granted\")\n",
    "    else:\n",
    "        print(\"Incorrect password, try again.\")\n",
    "\n",
    "    "
   ]
  },
  {
   "cell_type": "markdown",
   "id": "622db913-705d-4990-9c57-9bd320f699f5",
   "metadata": {},
   "source": [
    "Q6. Use nested while loop to print 3 different pattern."
   ]
  },
  {
   "cell_type": "code",
   "execution_count": 22,
   "id": "51f7a432-cf68-4756-ab7a-1f8d8eb05457",
   "metadata": {},
   "outputs": [
    {
     "name": "stdout",
     "output_type": "stream",
     "text": [
      "*\n",
      "**\n",
      "***\n",
      "****\n",
      "*****\n"
     ]
    }
   ],
   "source": [
    "rows = 5\n",
    "i = 1\n",
    "\n",
    "while i <= rows:\n",
    "    j = 1\n",
    "    while j <= i:\n",
    "        print('*', end='')\n",
    "        j += 1\n",
    "    print()\n",
    "    i += 1\n"
   ]
  },
  {
   "cell_type": "code",
   "execution_count": 23,
   "id": "26a759a1-72fd-4dfb-99e8-7996e5e8a431",
   "metadata": {},
   "outputs": [
    {
     "name": "stdout",
     "output_type": "stream",
     "text": [
      "*****\n",
      "*****\n",
      "*****\n",
      "*****\n",
      "*****\n"
     ]
    }
   ],
   "source": [
    "rows = 5\n",
    "i = 1\n",
    "\n",
    "while i <= rows:\n",
    "    j = 1\n",
    "    while j <= rows:\n",
    "        print('*', end='')\n",
    "        j += 1\n",
    "    print()\n",
    "    i += 1\n"
   ]
  },
  {
   "cell_type": "code",
   "execution_count": 24,
   "id": "13cfbe11-4926-48bb-8f99-b126671840e9",
   "metadata": {},
   "outputs": [
    {
     "name": "stdout",
     "output_type": "stream",
     "text": [
      "    *\n",
      "   ***\n",
      "  *****\n",
      " *******\n",
      "*********\n"
     ]
    }
   ],
   "source": [
    "rows = 5\n",
    "i = 1\n",
    "\n",
    "while i <= rows:\n",
    "    j = 1\n",
    "    while j <= rows - i:\n",
    "        print(' ', end='')\n",
    "        j += 1\n",
    "    k = 1\n",
    "    while k <= (2 * i - 1):\n",
    "        print('*', end='')\n",
    "        k += 1\n",
    "    \n",
    "    print()\n",
    "    i += 1\n"
   ]
  },
  {
   "cell_type": "markdown",
   "id": "0155dad3-fdba-4d36-a42c-3edfec174997",
   "metadata": {},
   "source": [
    "Q7. Reverse a while loop to display numbers from 10 to 1. "
   ]
  },
  {
   "cell_type": "code",
   "execution_count": 25,
   "id": "2ec51081-0e56-47d6-bcda-54e52b96662e",
   "metadata": {},
   "outputs": [
    {
     "name": "stdout",
     "output_type": "stream",
     "text": [
      "10\n",
      "9\n",
      "8\n",
      "7\n",
      "6\n",
      "5\n",
      "4\n",
      "3\n",
      "2\n",
      "1\n"
     ]
    }
   ],
   "source": [
    "n = 10\n",
    "while n >= 1:\n",
    "    print(n)\n",
    "    n = n-1"
   ]
  },
  {
   "cell_type": "code",
   "execution_count": null,
   "id": "3bcb65b3-e7b5-4caf-8a3c-2ab9e1421097",
   "metadata": {},
   "outputs": [],
   "source": []
  }
 ],
 "metadata": {
  "kernelspec": {
   "display_name": "Python 3 (ipykernel)",
   "language": "python",
   "name": "python3"
  },
  "language_info": {
   "codemirror_mode": {
    "name": "ipython",
    "version": 3
   },
   "file_extension": ".py",
   "mimetype": "text/x-python",
   "name": "python",
   "nbconvert_exporter": "python",
   "pygments_lexer": "ipython3",
   "version": "3.10.8"
  }
 },
 "nbformat": 4,
 "nbformat_minor": 5
}
