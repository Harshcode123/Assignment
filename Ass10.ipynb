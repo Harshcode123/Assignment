{
 "cells": [
  {
   "cell_type": "markdown",
   "id": "22a32aec-556d-4ace-b50a-83c3cb66e4d8",
   "metadata": {},
   "source": [
    "Q1, Create a vehicle class with an init method having instance variables as name_of_vehicle, max_speed\n",
    "and average_of_vehicle."
   ]
  },
  {
   "cell_type": "code",
   "execution_count": 1,
   "id": "ba909235-3588-4221-a2b1-b81547a5a46c",
   "metadata": {},
   "outputs": [],
   "source": [
    "class vehicle:\n",
    "    def __init__(self, name_of_vehicle, max_speed, average_of_vehicle):\n",
    "        self.name = name_of_vehicle\n",
    "        self.max_speed = max_speed\n",
    "        self.average_of_vehicle = average_of_vehicle\n",
    "        "
   ]
  },
  {
   "cell_type": "code",
   "execution_count": 2,
   "id": "c73f2f74-c3de-45df-8ef0-b7775c546d66",
   "metadata": {},
   "outputs": [],
   "source": [
    "car = vehicle(\"Toyota\",180,60)"
   ]
  },
  {
   "cell_type": "code",
   "execution_count": 3,
   "id": "ed3ba5ed-f2bf-4e04-97c0-c2a1f0f4a4b9",
   "metadata": {},
   "outputs": [
    {
     "data": {
      "text/plain": [
       "'Toyota'"
      ]
     },
     "execution_count": 3,
     "metadata": {},
     "output_type": "execute_result"
    }
   ],
   "source": [
    "car.name"
   ]
  },
  {
   "cell_type": "code",
   "execution_count": 4,
   "id": "19d1c664-aac7-4160-b627-a6198c432e55",
   "metadata": {},
   "outputs": [
    {
     "data": {
      "text/plain": [
       "60"
      ]
     },
     "execution_count": 4,
     "metadata": {},
     "output_type": "execute_result"
    }
   ],
   "source": [
    "car.average_of_vehicle"
   ]
  },
  {
   "cell_type": "markdown",
   "id": "f00e898b-640b-449b-ba7c-ef348bfc236c",
   "metadata": {},
   "source": [
    "Q2. Create a child class car from the vehicle class created in Que 1, which will inherit the vehicle class.\n",
    "Create a method named seating_capacity which takes capacity as an argument and returns the name of\n",
    "the vehicle and its seating capacity."
   ]
  },
  {
   "cell_type": "code",
   "execution_count": 5,
   "id": "0f343301-de95-47e1-b700-cd9446ca1c17",
   "metadata": {},
   "outputs": [
    {
     "name": "stdout",
     "output_type": "stream",
     "text": [
      "Toyota Camry - Seating Capacity: 5\n"
     ]
    }
   ],
   "source": [
    "class Car(vehicle):\n",
    "    def __init__(self, name, max_speed, average_speed):\n",
    "        super().__init__(name, max_speed, average_speed)\n",
    "\n",
    "    def seating_capacity(self, capacity):\n",
    "        return f\"{self.name} - Seating Capacity: {capacity}\"\n",
    "car = Car(\"Toyota Camry\", 180, 60)\n",
    "print(car.seating_capacity(5))\n"
   ]
  },
  {
   "cell_type": "markdown",
   "id": "19dab108-c982-4623-a2d1-5e9a4fad5d4d",
   "metadata": {},
   "source": [
    "Q3. What is multiple inheritance? Write a python code to demonstrate multiple inheritance."
   ]
  },
  {
   "cell_type": "code",
   "execution_count": 6,
   "id": "b85322b7-2d15-4136-93f4-baaaa93fca4f",
   "metadata": {},
   "outputs": [],
   "source": [
    "class Engine:\n",
    "    def __init__(self, engine_type):\n",
    "        self.engine_type = engine_type\n",
    "    \n",
    "    def start_engine(self):\n",
    "        return f\"Starting the {self.engine_type} engine.\"\n",
    "\n",
    "\n",
    "class Wheels:\n",
    "    def __init__(self, number_of_wheels):\n",
    "        self.number_of_wheels = number_of_wheels\n",
    "    \n",
    "    def roll_wheels(self):\n",
    "        return f\"{self.number_of_wheels} wheels are rolling.\"\n",
    "\n",
    "class Car(Engine, Wheels):\n",
    "    def __init__(self, name, engine_type, number_of_wheels):\n",
    "        Engine.__init__(self, engine_type)\n",
    "        Wheels.__init__(self, number_of_wheels)\n",
    "        self.name = name\n",
    "    \n",
    "    def car_details(self):\n",
    "        return f\"{self.name} with a {self.engine_type} engine and {self.number_of_wheels} wheels.\"\n"
   ]
  },
  {
   "cell_type": "code",
   "execution_count": 7,
   "id": "fc4ed240-723f-4fe0-a3c5-301ec3e4940b",
   "metadata": {},
   "outputs": [],
   "source": [
    "my_car = Car(\"Toyota Camry\", \"V6\", 4)"
   ]
  },
  {
   "cell_type": "code",
   "execution_count": 8,
   "id": "531c7e67-d583-414a-b53f-5a5a3e9f8f7d",
   "metadata": {},
   "outputs": [
    {
     "data": {
      "text/plain": [
       "'Toyota Camry with a V6 engine and 4 wheels.'"
      ]
     },
     "execution_count": 8,
     "metadata": {},
     "output_type": "execute_result"
    }
   ],
   "source": [
    "my_car.car_details()"
   ]
  },
  {
   "cell_type": "code",
   "execution_count": 9,
   "id": "59e4f30f-4a45-4f9d-8de6-bfee09ac203b",
   "metadata": {},
   "outputs": [
    {
     "data": {
      "text/plain": [
       "'4 wheels are rolling.'"
      ]
     },
     "execution_count": 9,
     "metadata": {},
     "output_type": "execute_result"
    }
   ],
   "source": [
    "my_car.roll_wheels()"
   ]
  },
  {
   "cell_type": "markdown",
   "id": "359f7e8d-a967-4224-afae-2eeca7feefc3",
   "metadata": {},
   "source": [
    "Q4. What are getter and setter in python? Create a class and create a getter and a setter method in this\n",
    "class."
   ]
  },
  {
   "cell_type": "code",
   "execution_count": 10,
   "id": "bdac2403-f1e2-404e-b1b0-b05253dfa316",
   "metadata": {},
   "outputs": [],
   "source": [
    "class BankAccount:\n",
    "    \n",
    "    def __init__(self, bankname, balance):\n",
    "        self.__bankname = bankname\n",
    "        self.__balance = balance\n",
    "        \n",
    "    @property\n",
    "    def bankname(self):\n",
    "        return self.__bankname\n",
    "    \n",
    "    @property\n",
    "    def balance(self):\n",
    "        return self.__balance\n",
    "    \n",
    "    @bankname.setter\n",
    "    def bankname(self, new_name):\n",
    "        self.__bankname = new_name\n",
    "        \n",
    "    @balance.setter\n",
    "    def balance(self, new_balance):\n",
    "        if new_balance > 0:\n",
    "            self.__balance = new_balance\n",
    "        else:\n",
    "            print(\"Invalid Amount\")\n"
   ]
  },
  {
   "cell_type": "code",
   "execution_count": 12,
   "id": "d3f42d6e-37ce-494e-a792-f00b72196220",
   "metadata": {},
   "outputs": [],
   "source": [
    "mohan = BankAccount(\"SBI\", 2000)"
   ]
  },
  {
   "cell_type": "code",
   "execution_count": 17,
   "id": "31347056-1753-4937-a42f-7b726f089d78",
   "metadata": {},
   "outputs": [],
   "source": [
    "mohan.bankname=\"Axis\""
   ]
  },
  {
   "cell_type": "code",
   "execution_count": 18,
   "id": "951d3dfe-ff39-4d4b-b184-1544afd6b91b",
   "metadata": {},
   "outputs": [
    {
     "data": {
      "text/plain": [
       "'Axis'"
      ]
     },
     "execution_count": 18,
     "metadata": {},
     "output_type": "execute_result"
    }
   ],
   "source": [
    "mohan.bankname"
   ]
  },
  {
   "cell_type": "markdown",
   "id": "eab82fe2-b726-409a-ac1c-c7645bbfd1fe",
   "metadata": {},
   "source": [
    "Q5.What is method overriding in python? Write a python code to demonstrate method overriding."
   ]
  },
  {
   "cell_type": "code",
   "execution_count": 19,
   "id": "c2a3ec63-d9be-44c8-bb02-c8647fb8853a",
   "metadata": {},
   "outputs": [
    {
     "data": {
      "text/plain": [
       "'Method overriding is a feature of object-oriented programming that allows a subclass to provide\\na specific implementation of a method that is already defined in its superclass'"
      ]
     },
     "execution_count": 19,
     "metadata": {},
     "output_type": "execute_result"
    }
   ],
   "source": [
    "'''Method overriding is a feature of object-oriented programming that allows a subclass to provide\n",
    "a specific implementation of a method that is already defined in its superclass'''"
   ]
  },
  {
   "cell_type": "code",
   "execution_count": 21,
   "id": "51d4a7aa-d3bc-492f-aac8-03d4dbdfefc6",
   "metadata": {},
   "outputs": [],
   "source": [
    "class Animal:\n",
    "    def sound(self):\n",
    "        return \"Some generic animal sound\"\n",
    "\n",
    "class Dog(Animal):\n",
    "    def sound(self):\n",
    "        return \"Bark\"\n",
    "\n",
    "class Cat(Animal):\n",
    "    def sound(self):\n",
    "        return \"Meow\"\n",
    "\n",
    "            \n"
   ]
  },
  {
   "cell_type": "code",
   "execution_count": 22,
   "id": "141b5e01-d165-4ec4-91de-8c0da00f8ed5",
   "metadata": {},
   "outputs": [],
   "source": [
    "gen = Animal()"
   ]
  },
  {
   "cell_type": "code",
   "execution_count": 23,
   "id": "5b2eaee1-6106-42b7-97df-3d505a58c222",
   "metadata": {},
   "outputs": [
    {
     "data": {
      "text/plain": [
       "'Some generic animal sound'"
      ]
     },
     "execution_count": 23,
     "metadata": {},
     "output_type": "execute_result"
    }
   ],
   "source": [
    "gen.sound()"
   ]
  },
  {
   "cell_type": "code",
   "execution_count": 24,
   "id": "6a8f95d6-bf82-470e-82e7-eac95429edbc",
   "metadata": {},
   "outputs": [],
   "source": [
    "dog = Dog()"
   ]
  },
  {
   "cell_type": "code",
   "execution_count": 25,
   "id": "73e8724d-8225-4500-9748-9226bc8dcf5b",
   "metadata": {},
   "outputs": [
    {
     "data": {
      "text/plain": [
       "'Bark'"
      ]
     },
     "execution_count": 25,
     "metadata": {},
     "output_type": "execute_result"
    }
   ],
   "source": [
    "dog.sound()"
   ]
  },
  {
   "cell_type": "code",
   "execution_count": null,
   "id": "2e664b99-db16-47b5-a413-ab18754351e1",
   "metadata": {},
   "outputs": [],
   "source": []
  }
 ],
 "metadata": {
  "kernelspec": {
   "display_name": "Python 3 (ipykernel)",
   "language": "python",
   "name": "python3"
  },
  "language_info": {
   "codemirror_mode": {
    "name": "ipython",
    "version": 3
   },
   "file_extension": ".py",
   "mimetype": "text/x-python",
   "name": "python",
   "nbconvert_exporter": "python",
   "pygments_lexer": "ipython3",
   "version": "3.10.8"
  }
 },
 "nbformat": 4,
 "nbformat_minor": 5
}
